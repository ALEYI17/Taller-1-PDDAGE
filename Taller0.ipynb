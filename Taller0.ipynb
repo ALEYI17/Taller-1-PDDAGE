{
 "cells": [
  {
   "cell_type": "markdown",
   "id": "b664c507",
   "metadata": {},
   "source": [
    "# Taller 0: Introducción a Python\n",
    "\n",
    "## Estudiante: Alejandro Salamanca\n",
    "## Fecha: 31 de enero de 2024\n",
    "## Clase: Procesamiento de Datos a Gran Escala\n",
    "## Profesor: John Corredor\n",
    "## Universidad: Pontificia Universidad Javeriana\n",
    "\n",
    "---\n",
    "\n",
    "# Taller 0: Introducción a Python\n",
    "\n",
    "Este taller proporciona una introducción práctica a los fundamentos de Python, enfocado en el contexto de Procesamiento de Datos a Gran Escala.\n",
    "\n",
    "## Objetivos\n",
    "\n",
    "- Familiarizarse con la sintaxis básica de Python.\n",
    "- Entender los conceptos fundamentales de programación.\n",
    "- Aplicar los conocimientos adquiridos en ejercicios prácticos.\n",
    "\n",
    "## Contenido\n",
    "\n",
    "1. <a href=\"#quiz1\">Cadenas<a/>\n",
    "2. <a href=\"#quiz2\">Tuplas<a/>\n",
    "3. <a href=\"#quiz3\">Listas<a/>\n",
    "4. <a href=\"#quiz4\">Conjuntos<a/>\n",
    "5. <a href=\"#quiz5\">Diccionarios<a/>\n",
    "6. <a href=\"#quiz6\">Condiciones<a/>\n",
    "7. <a href=\"#quiz7\">Bucles<a/>\n",
    "8. <a href=\"#quiz8\">Funciones<a/>\n",
    "9. <a href=\"#quiz9\">Clases<a/>\n",
    "10. <a href=\"#bono\">bono<a/>\n",
    "---\n",
    "## Estudiante\n",
    "\n",
    "Alejandro Salamanca  \n",
    "Estudiante de Ingeniería de Sistemas  \n",
    "[al_salamanca@javeriana.edu.co]"
   ]
  },
  {
   "cell_type": "markdown",
   "id": "c9872325",
   "metadata": {},
   "source": [
    " <h2 id=\"quiz1\">Exámen sobre Cadenas</h2>"
   ]
  },
  {
   "cell_type": "markdown",
   "id": "3863b604",
   "metadata": {},
   "source": [
    "¿Cual es el valor de la variable <code>A</code> después de ejecutar el siguiente código?"
   ]
  },
  {
   "cell_type": "code",
   "execution_count": 4,
   "id": "9a160103",
   "metadata": {},
   "outputs": [
    {
     "name": "stdout",
     "output_type": "stream",
     "text": [
      "1\n"
     ]
    }
   ],
   "source": [
    "# Escribe abajo tu código y presiona Shift+Enter para ejecutarlo\n",
    "\n",
    "A = \"1\"\n",
    "print(A)\n",
    "# La respuesta debería ser el numero 1 ya que simplemente se le dio una cadena con el numero 1 a la variable A,\n",
    "#mas no es un numero con un int ya que si se suma con otra cadena por ejemplo 2 debería dar 12"
   ]
  },
  {
   "cell_type": "markdown",
   "id": "572874c8",
   "metadata": {},
   "source": [
    "¿Cual es el valor de la variable <code>B</code> después de ejecutar el siguiente código?"
   ]
  },
  {
   "cell_type": "code",
   "execution_count": 2,
   "id": "336c4671",
   "metadata": {},
   "outputs": [
    {
     "name": "stdout",
     "output_type": "stream",
     "text": [
      "2\n"
     ]
    }
   ],
   "source": [
    "# Escribe abajo tu código y presiona Shift+Enter para ejecutarlo\n",
    "\n",
    "B = \"2\"\n",
    "print(B)\n",
    "# La respuesta debería ser el numero 2 ya que simplemente se le dio una cadena con el numero 2 a la variable B,\n",
    "#mas no es un numero con un int ya que si se suma con otra cadena por ejemplo 2 debería dar 22"
   ]
  },
  {
   "cell_type": "markdown",
   "id": "3d3d2b5b",
   "metadata": {},
   "source": [
    "¿Cual es el valor de la variable <code>C</code> después de ejecutar el siguiente código?"
   ]
  },
  {
   "cell_type": "code",
   "execution_count": 5,
   "id": "90b05f53",
   "metadata": {},
   "outputs": [
    {
     "name": "stdout",
     "output_type": "stream",
     "text": [
      "12\n"
     ]
    }
   ],
   "source": [
    "# Escribe abajo tu código y presiona Shift+Enter para ejecutarlo\n",
    "\n",
    "C = A + B\n",
    "print(C)\n",
    "# El valor de la cadena C debe ser 12, esto porque estamos trabajando con cadenas y no números, si fueran números daría 3\n",
    "# las cadenas se unen una a otra como si fuera un pegamento y no como una adición matemática"
   ]
  },
  {
   "cell_type": "markdown",
   "id": "6e97f46e",
   "metadata": {},
   "source": [
    "En la variable <code>D</code> haz uso del slicing para imprimir solo los primeros tres elementos:"
   ]
  },
  {
   "cell_type": "code",
   "execution_count": 6,
   "id": "cf195ba5",
   "metadata": {},
   "outputs": [
    {
     "name": "stdout",
     "output_type": "stream",
     "text": [
      "ABC\n"
     ]
    }
   ],
   "source": [
    "# Escribe abajo tu código y presiona Shift+Enter para ejecutarlo\n",
    "\n",
    "D = \"ABCDEFG\"\n",
    "slice = D[0:3]\n",
    "print(slice)\n",
    "# Para el slice se usa ':' , y ademas se hace del 0 al 3 para los primeros 3 elementos ya que se indexa desde el 0 por lo que \n",
    "# ya son 3 elementos del 0 al 3"
   ]
  },
  {
   "cell_type": "markdown",
   "id": "f7652ae9",
   "metadata": {},
   "source": [
    "Usa un valor de stride de 2 para imprimir cada segundo elemento de la cadena <code>E</code>:"
   ]
  },
  {
   "cell_type": "code",
   "execution_count": 7,
   "id": "967a5289",
   "metadata": {},
   "outputs": [
    {
     "name": "stdout",
     "output_type": "stream",
     "text": [
      "correct\n"
     ]
    }
   ],
   "source": [
    "# Escribe abajo tu código y presiona Shift+Enter para ejecutarlo\n",
    "\n",
    "E = 'clocrkr1e1c1t'\n",
    "stride= E[::2]\n",
    "print(stride)\n",
    "#El stride se hace usando :: y después se indica el numero con el cual se quieren hacer los \"Saltos\", por lo que \n",
    "#para conseguir cada segundo elemento se pone el 2 "
   ]
  },
  {
   "cell_type": "markdown",
   "id": "f026c36b",
   "metadata": {},
   "source": [
    "Imprime una barra invertida:"
   ]
  },
  {
   "cell_type": "code",
   "execution_count": 8,
   "id": "b3b446b9",
   "metadata": {},
   "outputs": [
    {
     "name": "stdout",
     "output_type": "stream",
     "text": [
      "\\\n"
     ]
    }
   ],
   "source": [
    "# Escribe abajo tu código y presiona Shift+Enter para ejecutarlo\n",
    "\n",
    "print(\"\\\\\")\n",
    "# Para imprimir una barra invertida es necesario poner dos, ya que si solo ponemos una sale el siguiente error:\n",
    "# \"SyntaxError: unterminated string literal (detected at line 3)\" ya que una se usa para ciertos caracteres especiales como \\n"
   ]
  },
  {
   "cell_type": "markdown",
   "id": "835ee30c",
   "metadata": {},
   "source": [
    "Convierte el mayúsculas el contenido de la variable <code>F</code>:"
   ]
  },
  {
   "cell_type": "code",
   "execution_count": 9,
   "id": "65bd977e",
   "metadata": {},
   "outputs": [
    {
     "name": "stdout",
     "output_type": "stream",
     "text": [
      "YOU ARE WRONG\n"
     ]
    }
   ],
   "source": [
    "# Escribe abajo tu código y presiona Shift+Enter para ejecutarlo\n",
    "\n",
    "F = \"You are wrong\"\n",
    "upper= F.upper()\n",
    "print(upper)\n",
    "# Para convertir una cadena en mayúsculas se tiene que utilizar el método 'upper' , por lo que devolverá la variable en \n",
    "#mayúsculas y eso lo guardamos en una variable y lo imprimimos para ver el resultado "
   ]
  },
  {
   "cell_type": "markdown",
   "id": "103b38e9",
   "metadata": {},
   "source": [
    "En la variable <code>G</code>, encuentra el primer índice de la sub-cadena <code>snow</code>:"
   ]
  },
  {
   "cell_type": "code",
   "execution_count": 10,
   "id": "bc0fed5d",
   "metadata": {},
   "outputs": [
    {
     "name": "stdout",
     "output_type": "stream",
     "text": [
      "95\n",
      "snow\n"
     ]
    }
   ],
   "source": [
    "# Escribe abajo tu código y presiona Shift+Enter para ejecutarlo\n",
    "\n",
    "G = \"Mary had a little lamb Little lamb, little lamb Mary had a little lamb \\\n",
    "Its fleece was white as snow And everywhere that Mary went Mary went, Mary went \\\n",
    "Everywhere that Mary went The lamb was sure to go\"\n",
    "\n",
    "find= G.find('snow')\n",
    "print(find)\n",
    "print(G[95:99])\n",
    "\n",
    "# Lo que hice fue usar el método find para encontrar la respuesta, esto devolvió el numero 95 por lo que la palabra comienza ahí\n",
    "# entonces después lo verifique usando la indexation "
   ]
  },
  {
   "cell_type": "markdown",
   "id": "fdd06c26",
   "metadata": {},
   "source": [
    "En la variable <code>G</code>, reemplaza la sub-cadena <code>Mary</code> con <code>Bob</code>:"
   ]
  },
  {
   "cell_type": "code",
   "execution_count": 11,
   "id": "d9f1b97a",
   "metadata": {},
   "outputs": [
    {
     "name": "stdout",
     "output_type": "stream",
     "text": [
      "Bob had a little lamb Little lamb, little lamb Bob had a little lamb Its fleece was white as snow And everywhere that Bob went Bob went, Bob went Everywhere that Bob went The lamb was sure to go\n"
     ]
    }
   ],
   "source": [
    "# Escribe abajo tu código y presiona Shift+Enter para ejecutarlo\n",
    "remplazo= G.replace('Mary','Bob')\n",
    "print(remplazo)\n",
    "# Para realizar el cambio se usa el método replace, entonces en el primer parámetro se tiene que poner la sub-cadena que \n",
    "# se busca cambiar y en el segundo argumento se debe poner la cadena nueva , por lo que la respuesta queda asi."
   ]
  },
  {
   "cell_type": "markdown",
   "id": "9b0eb2cf",
   "metadata": {},
   "source": [
    "<h2 id=\"quiz2\">Exámen sobre Tuplas</h2>"
   ]
  },
  {
   "cell_type": "markdown",
   "id": "30f7fd85",
   "metadata": {},
   "source": [
    "Considérese la siguiente tupla:"
   ]
  },
  {
   "cell_type": "code",
   "execution_count": 12,
   "id": "85db2d00",
   "metadata": {},
   "outputs": [
    {
     "data": {
      "text/plain": [
       "('pop',\n",
       " 'rock',\n",
       " 'soul',\n",
       " 'hard rock',\n",
       " 'soft rock',\n",
       " 'R&B',\n",
       " 'progressive rock',\n",
       " 'disco')"
      ]
     },
     "execution_count": 12,
     "metadata": {},
     "output_type": "execute_result"
    }
   ],
   "source": [
    "# Tupla de ejemplo\n",
    "\n",
    "genres_tuple = (\"pop\", \"rock\", \"soul\", \"hard rock\", \"soft rock\", \\\n",
    "                \"R&B\", \"progressive rock\", \"disco\") \n",
    "genres_tuple"
   ]
  },
  {
   "cell_type": "markdown",
   "id": "969456d6",
   "metadata": {},
   "source": [
    "Encontrar la longitud de la tupla, <code>genres_tuple</code>:"
   ]
  },
  {
   "cell_type": "code",
   "execution_count": 13,
   "id": "5530d25a",
   "metadata": {},
   "outputs": [
    {
     "data": {
      "text/plain": [
       "8"
      ]
     },
     "execution_count": 13,
     "metadata": {},
     "output_type": "execute_result"
    }
   ],
   "source": [
    "# Escribe abajo tu código y presiona Shift+Enter para ejecutarlo\n",
    "len(genres_tuple)\n",
    "# para encontrar la longitud de una tupla se puede usar la función len, la respuesta es 8 ya que tenemos 8 elementos en la tupla"
   ]
  },
  {
   "cell_type": "markdown",
   "id": "ca3a7053",
   "metadata": {},
   "source": [
    "<img src=\"https://s3-api.us-geo.objectstorage.softlayer.net/cf-courses-data/CognitiveClass/PY0101EN/Chapter%202/Images/TuplesQuiz.png\" width=\"1100\" align=\"center\">"
   ]
  },
  {
   "cell_type": "markdown",
   "id": "7f0eb007",
   "metadata": {},
   "source": [
    "Accede al elemento en el índice 3:"
   ]
  },
  {
   "cell_type": "code",
   "execution_count": 14,
   "id": "bd8be7a6",
   "metadata": {},
   "outputs": [
    {
     "data": {
      "text/plain": [
       "'hard rock'"
      ]
     },
     "execution_count": 14,
     "metadata": {},
     "output_type": "execute_result"
    }
   ],
   "source": [
    "# Escribe abajo tu código y presiona Shift+Enter para ejecutarlo\n",
    "genres_tuple[3]\n",
    "# para acceder al indice de un elemento se usa \"[]\" y como nos piden el tercer indice pues ponemos en 3"
   ]
  },
  {
   "cell_type": "markdown",
   "id": "a2b04649",
   "metadata": {},
   "source": [
    "Utiliza el slicing para obtener los índices 3, 4 y 5:"
   ]
  },
  {
   "cell_type": "code",
   "execution_count": 15,
   "id": "dc853f60",
   "metadata": {},
   "outputs": [
    {
     "data": {
      "text/plain": [
       "('hard rock', 'soft rock', 'R&B')"
      ]
     },
     "execution_count": 15,
     "metadata": {},
     "output_type": "execute_result"
    }
   ],
   "source": [
    "# Escribe abajo tu código y presiona Shift+Enter para ejecutarlo\n",
    "genres_tuple[3:6]\n",
    "# En este caso, genres_tuple[3:6] devolverá una nueva tupla con los elementos en los índices 3, 4 y 5 de la tupla original\n",
    "# El índice final del rango en el slicing no está incluido, por lo que se usa 6 para incluir el elemento en el índice 5."
   ]
  },
  {
   "cell_type": "markdown",
   "id": "fc2bbf58",
   "metadata": {},
   "source": [
    "Encuentra los primeros dos elementos de la tupla <code>genres_tuple</code>:"
   ]
  },
  {
   "cell_type": "code",
   "execution_count": 16,
   "id": "5045dd72",
   "metadata": {},
   "outputs": [
    {
     "data": {
      "text/plain": [
       "('pop', 'rock')"
      ]
     },
     "execution_count": 16,
     "metadata": {},
     "output_type": "execute_result"
    }
   ],
   "source": [
    "# Escribe abajo tu código y presiona Shift+Enter para ejecutarlo\n",
    "genres_tuple[:2]\n",
    "# En este caso, genres_tuple[:2] devolverá una nueva tupla que contiene los elementos en los índices 0 y 1 de la tupla original. \n",
    "# La salida será ('pop', 'rock'). En el slicing, el índice final no está incluido, por lo que [:2] selecciona los elementos\n",
    "# desde el  inicio hasta el índice 1."
   ]
  },
  {
   "cell_type": "markdown",
   "id": "09ffd616",
   "metadata": {},
   "source": [
    "Encuentra el primer índice de <code>\"disco\"</code>:"
   ]
  },
  {
   "cell_type": "code",
   "execution_count": 17,
   "id": "00d9b742",
   "metadata": {},
   "outputs": [
    {
     "data": {
      "text/plain": [
       "7"
      ]
     },
     "execution_count": 17,
     "metadata": {},
     "output_type": "execute_result"
    }
   ],
   "source": [
    "# Escribe abajo tu código y presiona Shift+Enter para ejecutarlo\n",
    "genres_tuple.index(\"disco\")\n",
    "# para encontrar el primer índice de la cadena \"disco\" en la tupla genres_tuple. Se utiliza el método index() \n",
    "#que devuelve el índice del primer elemento igual al argumento pasado. "
   ]
  },
  {
   "cell_type": "markdown",
   "id": "de024940",
   "metadata": {},
   "source": [
    "Genera una lista ordenada desde la tupla <code>C_tuple=(-5, 1, -3)</code>:"
   ]
  },
  {
   "cell_type": "code",
   "execution_count": null,
   "id": "d97a39ae",
   "metadata": {},
   "outputs": [
    {
     "data": {
      "text/plain": [
       "[-5, -3, 1]"
      ]
     },
     "execution_count": 18,
     "metadata": {},
     "output_type": "execute_result"
    }
   ],
   "source": [
    "# Escribe abajo tu código y presiona Shift+Enter para ejecutarlo\n",
    "C_tuple=(-5, 1, -3)\n",
    "sorted(C_tuple)\n",
    "# La función sorted() en Python se utiliza para ordenar los elementos de una secuencia, \n",
    "# como una tupla, y devuelve una nueva lista con los elementos ordenados.\n",
    "# En el caso de C_tuple=(-5, 1, -3), si aplicas sorted(C_tuple), obtendrás una nueva lista con los elementos ordenados \n",
    "# de menor a mayor. En este ejemplo, la salida sería [-5, -3, 1]"
   ]
  },
  {
   "cell_type": "markdown",
   "id": "dcc8a0b8",
   "metadata": {},
   "source": [
    "<h2 id=\"quiz\">Exámen sobre Listas</h2>"
   ]
  },
  {
   "cell_type": "markdown",
   "id": "38de9d6c",
   "metadata": {},
   "source": [
    "Crea una lista <code>a_lit</code> con los siguientes elementos <code>1</code>, <code>hello</code>, <code>[1,2,3]</code> y <code>True</code>."
   ]
  },
  {
   "cell_type": "code",
   "execution_count": 1,
   "id": "cd46a8a9",
   "metadata": {},
   "outputs": [
    {
     "data": {
      "text/plain": [
       "[1, 'hello', [1, 2, 3], True]"
      ]
     },
     "execution_count": 1,
     "metadata": {},
     "output_type": "execute_result"
    }
   ],
   "source": [
    "a_lit = [1,\"hello\",[1,2,3],True]\n",
    "a_lit\n",
    "# Para crear una lista es necesario usar '[]' y dentro de la lista puede existir cualquier tipo, por lo que solo si tiene\n",
    "# que poner lo que nos pidieron."
   ]
  },
  {
   "cell_type": "markdown",
   "id": "33527bb3",
   "metadata": {},
   "source": [
    "Encuentra el valor almacenado en el índice 1 de <code>a_list</code>."
   ]
  },
  {
   "cell_type": "code",
   "execution_count": 2,
   "id": "7fc5d22f",
   "metadata": {},
   "outputs": [
    {
     "data": {
      "text/plain": [
       "'hello'"
      ]
     },
     "execution_count": 2,
     "metadata": {},
     "output_type": "execute_result"
    }
   ],
   "source": [
    "a_lit[1]\n",
    "# Para indexar un valor solo tenemos que poner el numero dentro de los '[]' y como piden el 1 solo se pone ese numero"
   ]
  },
  {
   "cell_type": "markdown",
   "id": "efd323ee",
   "metadata": {},
   "source": [
    "Obtén el elemento almacenado en el índice 1, 2 y 3 de <code>a_list</code>."
   ]
  },
  {
   "cell_type": "code",
   "execution_count": 3,
   "id": "6cfb448a",
   "metadata": {},
   "outputs": [
    {
     "data": {
      "text/plain": [
       "['hello', [1, 2, 3], True]"
      ]
     },
     "execution_count": 3,
     "metadata": {},
     "output_type": "execute_result"
    }
   ],
   "source": [
    "a_lit[1:4]\n",
    "# Para hacer un slice se usa el signo ':', y como nos piden los indices 1,2,3 se pone hasta el 4 ya que el ultimo valor \n",
    "#lo ignora"
   ]
  },
  {
   "cell_type": "markdown",
   "id": "932c3d74",
   "metadata": {},
   "source": [
    "Concatena las siguientes listas <code>A = [1, 'a']</code> y <code>B = [2, 1, 'd']</code>:"
   ]
  },
  {
   "cell_type": "code",
   "execution_count": 4,
   "id": "2bee0c27",
   "metadata": {},
   "outputs": [
    {
     "data": {
      "text/plain": [
       "[1, 'a', 2, 1, 'd']"
      ]
     },
     "execution_count": 4,
     "metadata": {},
     "output_type": "execute_result"
    }
   ],
   "source": [
    "A = [1, 'a']\n",
    "B = [2, 1, 'd']\n",
    "A+B\n",
    "# Para concatenar una lista se usa el operador '+' ya que adiciona una lista con la otra y los elementos quedan en \n",
    "#una sola lista"
   ]
  },
  {
   "cell_type": "markdown",
   "id": "18e8edce",
   "metadata": {},
   "source": [
    "<h2 id=\"quiz4\">Cuestionario sobre conjuntos</h2>"
   ]
  },
  {
   "cell_type": "markdown",
   "id": "0d9f45e4",
   "metadata": {},
   "source": [
    "Transformar la lista <code>['rap','house','electronic music', 'rap']</code> en un conjunto:"
   ]
  },
  {
   "cell_type": "code",
   "execution_count": 1,
   "id": "5a2f0935",
   "metadata": {},
   "outputs": [
    {
     "data": {
      "text/plain": [
       "{'electronic music', 'house', 'rap'}"
      ]
     },
     "execution_count": 1,
     "metadata": {},
     "output_type": "execute_result"
    }
   ],
   "source": [
    "lista = ['rap','house','electronic music', 'rap']\n",
    "set(lista)\n",
    "# Para transformar una lista en un conjunto se usa la función set() y como parámetro la lista, en el resultado se debe ver \n",
    "# entre '{}'"
   ]
  },
  {
   "cell_type": "markdown",
   "id": "9d63ddc9",
   "metadata": {},
   "source": [
    "Considera que la lista <code>A = [1, 2, 2, 1]</code> y el conjunto <code>B = set([1, 2, 2, 1])</code> suman <code>sum(A) = sum(B)</code>"
   ]
  },
  {
   "cell_type": "code",
   "execution_count": 2,
   "id": "e1ca0970",
   "metadata": {},
   "outputs": [
    {
     "name": "stdout",
     "output_type": "stream",
     "text": [
      "6\n",
      "3\n"
     ]
    }
   ],
   "source": [
    "A = [1, 2, 2, 1]\n",
    "B = set([1, 2, 2, 1])\n",
    "print(sum(A))\n",
    "print(sum(B))\n",
    "# la suma debe dar diferente ya que el el conjunto los elementos repetidos se unen en uno, por lo que la suma en el conjunto\n",
    "# debería dar menos"
   ]
  },
  {
   "cell_type": "markdown",
   "id": "a867febd",
   "metadata": {},
   "source": [
    "Crea un nuevo conjunto <code>album_set3</code> que sea la unión de <code>album_set1</code> y <code>album_set2</code>:"
   ]
  },
  {
   "cell_type": "code",
   "execution_count": 4,
   "id": "af6d87a9",
   "metadata": {},
   "outputs": [
    {
     "data": {
      "text/plain": [
       "{'AC/DC', 'Back in Black', 'The Dark Side of the Moon', 'Thriller'}"
      ]
     },
     "execution_count": 4,
     "metadata": {},
     "output_type": "execute_result"
    }
   ],
   "source": [
    "\n",
    "album_set1 = set([\"Thriller\", 'AC/DC', 'Back in Black'])\n",
    "album_set2 = set([ \"AC/DC\", \"Back in Black\", \"The Dark Side of the Moon\"])\n",
    "album_set3 = album_set1.union(album_set2)\n",
    "album_set3\n",
    "# Para hacer la union se usa el método 'union()' en alguno de los otros set y pasarle como parámetro el otro conjunto\n",
    "# y la respuesta debe ser todos los elementos en los conjuntos"
   ]
  },
  {
   "cell_type": "markdown",
   "id": "110de4bb",
   "metadata": {},
   "source": [
    "Averigua si <code>album_set1</code> es un subconjunto de <code>album_set3</code>:"
   ]
  },
  {
   "cell_type": "code",
   "execution_count": 5,
   "id": "84e6a94f",
   "metadata": {},
   "outputs": [
    {
     "data": {
      "text/plain": [
       "True"
      ]
     },
     "execution_count": 5,
     "metadata": {},
     "output_type": "execute_result"
    }
   ],
   "source": [
    "album_set1.issubset(album_set3)\n",
    "# Se tiene que usar el método 'issubset' sobre la variable album_set1 y pasarle como parámetro album_set3 y esto debería \n",
    "# retornar True ya que anteriormente hicimos album_set3 con partes de album_set1 por lo que la respuesta es True"
   ]
  },
  {
   "cell_type": "markdown",
   "id": "baf34385",
   "metadata": {},
   "source": [
    "<h2 id=\"quiz5\">Cuestionario sobre Diccionarios</h2>"
   ]
  },
  {
   "cell_type": "markdown",
   "id": "a93a0dc5",
   "metadata": {},
   "source": [
    "<b>Necesitarás este diccionario para las siguientes dos preguntas:</b>"
   ]
  },
  {
   "cell_type": "code",
   "execution_count": 6,
   "id": "b046a807",
   "metadata": {},
   "outputs": [
    {
     "data": {
      "text/plain": [
       "{'The Bodyguard': '1992', 'Saturday Night Fever': '1977'}"
      ]
     },
     "execution_count": 6,
     "metadata": {},
     "output_type": "execute_result"
    }
   ],
   "source": [
    "# Pregunta - Diccionario de ejemplo\n",
    "\n",
    "soundtrack_dic = {\"The Bodyguard\":\"1992\", \"Saturday Night Fever\":\"1977\"}\n",
    "soundtrack_dic "
   ]
  },
  {
   "cell_type": "markdown",
   "id": "6bd77705",
   "metadata": {},
   "source": [
    "a) En el diccionario <code>soundtrack_dict</code>. ¿Cuáles son las llaves?"
   ]
  },
  {
   "cell_type": "code",
   "execution_count": 7,
   "id": "c3c4fa42",
   "metadata": {},
   "outputs": [
    {
     "data": {
      "text/plain": [
       "dict_keys(['The Bodyguard', 'Saturday Night Fever'])"
      ]
     },
     "execution_count": 7,
     "metadata": {},
     "output_type": "execute_result"
    }
   ],
   "source": [
    "soundtrack_dic.keys()\n",
    "# Para saber las llaves usamos en método 'keys()' y esto nos debería devolver : 'The Bodyguard', 'Saturday Night Fever'"
   ]
  },
  {
   "cell_type": "markdown",
   "id": "8e0920af",
   "metadata": {},
   "source": [
    "b) En el diccionario <code>soundtrack_dict</code>. ¿Cuáles son los valores?"
   ]
  },
  {
   "cell_type": "code",
   "execution_count": 8,
   "id": "4611c723",
   "metadata": {},
   "outputs": [
    {
     "data": {
      "text/plain": [
       "dict_values(['1992', '1977'])"
      ]
     },
     "execution_count": 8,
     "metadata": {},
     "output_type": "execute_result"
    }
   ],
   "source": [
    "soundtrack_dic.values()\n",
    "# Para saber los valores se usa el método values() y esto nos debería devolver: '1992', '1977'"
   ]
  },
  {
   "cell_type": "markdown",
   "id": "bda0a338",
   "metadata": {},
   "source": [
    "<b>Necesitarás este diccionario para las siguientes preguntas:</b>"
   ]
  },
  {
   "cell_type": "markdown",
   "id": "c4b42417",
   "metadata": {},
   "source": [
    "Los discos <b>Back in Black</b>, <b>The Bodyguard</b> y <b>Thriller</b> poseen el siguiente record de ventas en millones, 50, 50 y 65 respectivamente:"
   ]
  },
  {
   "cell_type": "markdown",
   "id": "6e63a8cd",
   "metadata": {},
   "source": [
    "a) Crea un diccionario <code>album_sales_dict</code> donde las llaves sean el nombre del disco y los valores la cantidad de ventas en millones."
   ]
  },
  {
   "cell_type": "code",
   "execution_count": 9,
   "id": "17128a2b",
   "metadata": {},
   "outputs": [
    {
     "data": {
      "text/plain": [
       "{'Back in Black': 50, 'The Bodyguard': 50, 'Thriller': 65}"
      ]
     },
     "execution_count": 9,
     "metadata": {},
     "output_type": "execute_result"
    }
   ],
   "source": [
    "album_sales_dict = {'Back in Black':50, 'The Bodyguard':50,'Thriller':65}\n",
    "album_sales_dict\n",
    "# para crear un diccionario se pone entre {} y después se pone la llave y para agregar el valor se indica después de : \n",
    "# ademas para separar los diferentes elementos se separan por comas"
   ]
  },
  {
   "cell_type": "markdown",
   "id": "1f8b160a",
   "metadata": {},
   "source": [
    "b) Usa el diccionario para encontrar las ventas totales de <b>Thriller</b>:"
   ]
  },
  {
   "cell_type": "code",
   "execution_count": 10,
   "id": "c52bb8fe",
   "metadata": {},
   "outputs": [
    {
     "data": {
      "text/plain": [
       "65"
      ]
     },
     "execution_count": 10,
     "metadata": {},
     "output_type": "execute_result"
    }
   ],
   "source": [
    "album_sales_dict['Thriller']\n",
    "# Para encontrar las ventas de Thriller se debe usar [] y dentro poner la llave que es el nombre del disco y nos debería \n",
    "#devolver las ventas ya que eso es el; valor"
   ]
  },
  {
   "cell_type": "markdown",
   "id": "604618cf",
   "metadata": {},
   "source": [
    "c) Encuentra los nombres de los discos dentro del diccionario mediante el método <code>keys</code>:"
   ]
  },
  {
   "cell_type": "code",
   "execution_count": 12,
   "id": "d5e493e4",
   "metadata": {},
   "outputs": [
    {
     "data": {
      "text/plain": [
       "dict_keys(['Back in Black', 'The Bodyguard', 'Thriller'])"
      ]
     },
     "execution_count": 12,
     "metadata": {},
     "output_type": "execute_result"
    }
   ],
   "source": [
    "album_sales_dict.keys()\n",
    "# Como se indica para encontrar los nombres de los álbumes se debe usar el método keys ya que las llaves del diccionario\n",
    "# son los nombres de los diferentes álbumes"
   ]
  },
  {
   "cell_type": "markdown",
   "id": "d071f38a",
   "metadata": {},
   "source": [
    "d) Encuentra los records de ventas dentro del diccionario mediante el método <code>values</code>:"
   ]
  },
  {
   "cell_type": "code",
   "execution_count": 14,
   "id": "a496b3ea",
   "metadata": {},
   "outputs": [
    {
     "data": {
      "text/plain": [
       "dict_values([50, 50, 65])"
      ]
     },
     "execution_count": 14,
     "metadata": {},
     "output_type": "execute_result"
    }
   ],
   "source": [
    "album_sales_dict.values()\n",
    "# Para saber el record de ventas se debe usar values ya que esto se guarda en la parte del valor del diccionario"
   ]
  },
  {
   "cell_type": "markdown",
   "id": "8d288560",
   "metadata": {},
   "source": [
    "<h2 id=\"quiz6\">Cuestionario sobre Condiciones</h2>"
   ]
  },
  {
   "cell_type": "markdown",
   "id": "e0e9fa4a",
   "metadata": {},
   "source": [
    "Escribe una declaración if que determine si un disco musical tiene una calificación mayor a 8. Compruébalo utilizando el calificación del disco <b>“Back in Black”</b> el cual tiene un valor de 8.5. Si la condición es verdadera, imprime “\"This album is Amazing!\"”"
   ]
  },
  {
   "cell_type": "code",
   "execution_count": 23,
   "id": "1298c389",
   "metadata": {},
   "outputs": [
    {
     "name": "stdout",
     "output_type": "stream",
     "text": [
      "This album is Amazing!\n"
     ]
    }
   ],
   "source": [
    "Back_in_Black = 8.5\n",
    "if Back_in_Black >8:\n",
    "    print(\"This album is Amazing!\")\n",
    "# Para esto creamos una variable con el nombre de la canción, después le damos el valor de 8.5 y realizamos una comparación\n",
    "# esto con los signos > para ver si es mayor de 8, en caso de que si se imprime lo indicado"
   ]
  },
  {
   "cell_type": "markdown",
   "id": "20a791c5",
   "metadata": {},
   "source": [
    "Escribe una declaración if-else que determine lo siguiente. Si la calificación es mayor que 8 imprime “this album is amazing”. Si es menor o igual a 8 que imprima “this album is ok”."
   ]
  },
  {
   "cell_type": "code",
   "execution_count": 24,
   "id": "59958509",
   "metadata": {},
   "outputs": [
    {
     "name": "stdout",
     "output_type": "stream",
     "text": [
      "This album is Amazing!\n"
     ]
    }
   ],
   "source": [
    "if Back_in_Black > 8:\n",
    "    print(\"This album is Amazing!\")\n",
    "else:\n",
    "    print(\"this album is ok\")\n",
    "# Básicamente lo único es añadir una declaración else después del if y dentro poner el print que se pide"
   ]
  },
  {
   "cell_type": "markdown",
   "id": "24b3940a",
   "metadata": {},
   "source": [
    "Escribe una declaración if que determine si un disco fue lanzado antes de 1980 o en los años 1991 o 1993. Si la condición es verdadera imprime el año de lanzamiento."
   ]
  },
  {
   "cell_type": "code",
   "execution_count": 29,
   "id": "56473ce7",
   "metadata": {},
   "outputs": [
    {
     "name": "stdout",
     "output_type": "stream",
     "text": [
      "El disco se lanzo en  1975\n"
     ]
    }
   ],
   "source": [
    "disco = 1975\n",
    "if disco < 1980 or disco == 1991 or disco==1993:\n",
    "    print(\"El disco se lanzo en \",disco)\n",
    "# En este caso solo separamos las condiciones que se nos dieron por un 'or' y es suficiente para saber si el año esta enn el\n",
    "# rango y si lo esta se usa un print de la variable."
   ]
  },
  {
   "cell_type": "markdown",
   "id": "fbb47e23",
   "metadata": {},
   "source": [
    "<h2 id=\"quiz7\">Cuestionario sobre Bucles</h2>"
   ]
  },
  {
   "cell_type": "markdown",
   "id": "82f63c7c",
   "metadata": {},
   "source": [
    "Escribe un bucle <code>for</code> que imprima todos los elementos entre <b>-5</b> y <b>5</b> usando la función range."
   ]
  },
  {
   "cell_type": "code",
   "execution_count": 32,
   "id": "8d962798",
   "metadata": {},
   "outputs": [
    {
     "name": "stdout",
     "output_type": "stream",
     "text": [
      "-5\n",
      "-4\n",
      "-3\n",
      "-2\n",
      "-1\n",
      "0\n",
      "1\n",
      "2\n",
      "3\n",
      "4\n",
      "5\n"
     ]
    }
   ],
   "source": [
    "for i in range (-5,6):\n",
    "    print(i)\n",
    "# para imprimir los números del -5 al 5 se debe una la función range usando una tupla donde el inicio del rango es -5 y el final\n",
    "# 6 porque esto hace que solo se cuente hasta el 5"
   ]
  },
  {
   "cell_type": "markdown",
   "id": "5344adec",
   "metadata": {},
   "source": [
    "Imprime los elementos de la siguiente lista:\n",
    "<code>Genres=[ 'rock', 'R&B', 'Soundtrack', 'R&B', 'soul', 'pop']</code>\n",
    "Y asegúrate de seguir las convenciones del lenguaje Python"
   ]
  },
  {
   "cell_type": "code",
   "execution_count": 34,
   "id": "94414d95",
   "metadata": {},
   "outputs": [
    {
     "name": "stdout",
     "output_type": "stream",
     "text": [
      "rock\n",
      "R&B\n",
      "Soundtrack\n",
      "R&B\n",
      "soul\n",
      "pop\n"
     ]
    }
   ],
   "source": [
    "Genres=[ 'rock', 'R&B', 'Soundtrack', 'R&B', 'soul', 'pop']\n",
    "for genre in Genres:\n",
    "    print(genre)\n",
    "# Para imprimir esta lista se puede usar un for que recorra la lista indicando la lista con la palabra 'in' y luego el nombre\n",
    "# de la lista."
   ]
  },
  {
   "cell_type": "markdown",
   "id": "d8ac9b3c",
   "metadata": {},
   "source": [
    "Escribe un bucle for que imprima la siguiente lista: <code>squares=['red', 'yellow', 'green', 'purple', 'blue']</code>"
   ]
  },
  {
   "cell_type": "code",
   "execution_count": 35,
   "id": "b1c8e871",
   "metadata": {},
   "outputs": [
    {
     "name": "stdout",
     "output_type": "stream",
     "text": [
      "red\n",
      "yellow\n",
      "green\n",
      "purple\n",
      "blue\n"
     ]
    }
   ],
   "source": [
    "squares=['red', 'yellow', 'green', 'purple', 'blue']\n",
    "for square in squares:\n",
    "    print(square)\n",
    "# Para imprimir esta lista se puede usar un for que recorra la lista indicando la lista con la palabra 'in' y luego el nombre\n",
    "# de la lista."
   ]
  },
  {
   "cell_type": "markdown",
   "id": "49e04f96",
   "metadata": {},
   "source": [
    "Escribe un bucle while que muestre los valores de la calificación de las canciones de un disco almacenados en la lista <code>PlayListRatings</code>. Si la calificación es menor a 6, sal del bucle. La lista <code>PlayListRatings</code> esta compuesta por: <code>PlayListRatings = [10, 9.5, 10, 8, 7.5, 5, 10, 10]</code>"
   ]
  },
  {
   "cell_type": "code",
   "execution_count": 36,
   "id": "c8fd7831",
   "metadata": {},
   "outputs": [
    {
     "name": "stdout",
     "output_type": "stream",
     "text": [
      "Calificación: 10\n",
      "Calificación: 9.5\n",
      "Calificación: 10\n",
      "Calificación: 8\n",
      "Calificación: 7.5\n",
      "Calificación: 5\n",
      "Calificación menor a 6. Saliendo del bucle.\n"
     ]
    }
   ],
   "source": [
    "PlayListRatings = [10, 9.5, 10, 8, 7.5, 5, 10, 10]\n",
    "\n",
    "indice = 0\n",
    "while indice < len(PlayListRatings):\n",
    "    calificacion = PlayListRatings[indice]\n",
    "    print(\"Calificación:\", calificacion)\n",
    "\n",
    "    if calificacion < 6:\n",
    "        print(\"Calificación menor a 6. Saliendo del bucle.\")\n",
    "        break\n",
    "\n",
    "    indice += 1\n",
    "# Este bucle while imprimirá las calificaciones de las canciones y saldrá del bucle si encuentra una calificación menor a 6."
   ]
  },
  {
   "cell_type": "markdown",
   "id": "8878b808",
   "metadata": {},
   "source": [
    "Escribe un bucle while que copie las cadenas <code>'orange'</code> de la lista <code>squares</code> a la lista <code>new_squares</code>. Detente y sal del ciclo si el valor en la lista no es <code>'orange'</code>:"
   ]
  },
  {
   "cell_type": "code",
   "execution_count": 37,
   "id": "edd67ec7",
   "metadata": {},
   "outputs": [
    {
     "name": "stdout",
     "output_type": "stream",
     "text": [
      "Valor no es 'orange'. Saliendo del bucle.\n",
      "Lista original: ['orange', 'orange', 'orange', 'green', 'orange', 'red']\n",
      "Nueva lista: ['orange', 'orange', 'orange']\n"
     ]
    }
   ],
   "source": [
    "squares = ['orange', 'orange', 'orange', 'green', 'orange', 'red']\n",
    "new_squares = []\n",
    "\n",
    "indice = 0\n",
    "while indice < len(squares):\n",
    "    if squares[indice] == 'orange':\n",
    "        new_squares.append(squares[indice])\n",
    "    else:\n",
    "        print(\"Valor no es 'orange'. Saliendo del bucle.\")\n",
    "        break\n",
    "\n",
    "    indice += 1\n",
    "\n",
    "print(\"Lista original:\", squares)\n",
    "print(\"Nueva lista:\", new_squares)\n",
    "# Este bucle while copiará las cadenas 'orange' de la lista squares a la lista new_squares y se detendrá si encuentra un \n",
    "# valor que no es 'orange'. La nueva lista new_squares contendrá todas las instancias de 'orange' hasta el punto en que se \n",
    "# encuentra el valor que no es 'orange'."
   ]
  },
  {
   "cell_type": "markdown",
   "id": "99828664",
   "metadata": {},
   "source": [
    "<h2 id=quiz8>Cuestionario sobre funciones</h2>"
   ]
  },
  {
   "cell_type": "markdown",
   "id": "05040bfa",
   "metadata": {},
   "source": [
    "Cree una función que divida la primera entrada por la segunda entrada:"
   ]
  },
  {
   "cell_type": "code",
   "execution_count": 38,
   "id": "d69ffa96",
   "metadata": {},
   "outputs": [
    {
     "data": {
      "text/plain": [
       "3.0"
      ]
     },
     "execution_count": 38,
     "metadata": {},
     "output_type": "execute_result"
    }
   ],
   "source": [
    "def divisora(a,b):\n",
    "    return a/b\n",
    "divisora(15,5)\n",
    "\n",
    "# La función divisora es una función de Python que toma dos parámetros, a y b, y devuelve el resultado de la división de a \n",
    "# entre b. En este caso, la llamada a la función divisora(15, 5) está dividiendo 15 entre 5."
   ]
  },
  {
   "cell_type": "markdown",
   "id": "d3661944",
   "metadata": {},
   "source": [
    "Utilice la función <code> con </code> para la siguiente pregunta."
   ]
  },
  {
   "cell_type": "code",
   "execution_count": 39,
   "id": "f295e570",
   "metadata": {},
   "outputs": [],
   "source": [
    "# Usa la función con para la siguiente pregunta\n",
    "\n",
    "def con(a, b):\n",
    "    return(a + b)"
   ]
  },
  {
   "cell_type": "markdown",
   "id": "46d5694c",
   "metadata": {},
   "source": [
    "¿Se puede usar la función <code> con </code> que definimos antes para agregar números enteros o cadenas?"
   ]
  },
  {
   "cell_type": "code",
   "execution_count": 41,
   "id": "d98f7f4f",
   "metadata": {},
   "outputs": [
    {
     "name": "stdout",
     "output_type": "stream",
     "text": [
      "3\n",
      "holamundo\n"
     ]
    }
   ],
   "source": [
    "print(con(1,2))\n",
    "print(con(\"hola\", \"mundo\"))\n",
    "# Entonces, sí, la función con puede usarse tanto para agregar números enteros como para concatenar cadenas. \n",
    "#En este caso, funciona para ambos tipos de datos debido al uso del operador de suma que tiene diferentes comportamientos \n",
    "#según el tipo de datos que recibe."
   ]
  },
  {
   "cell_type": "markdown",
   "id": "aded8e31",
   "metadata": {},
   "source": [
    "¿Se puede usar la función <code> con </code> que definimos antes para concentrar una lista o tupla?"
   ]
  },
  {
   "cell_type": "code",
   "execution_count": 42,
   "id": "a1991d66",
   "metadata": {},
   "outputs": [
    {
     "name": "stdout",
     "output_type": "stream",
     "text": [
      "[1, 2, 3, 4]\n",
      "('hola', ' ', 'mundo')\n"
     ]
    }
   ],
   "source": [
    "print(con([1, 2], [3, 4]))  \n",
    "print(con((\"hola\", \" \"), (\"mundo\",)))\n",
    "# Entonces, sí, la función con puede usarse tanto para concatenar listas enteros como para concatenar tuplas.\n",
    "#En este caso, funciona para ambos tipos de datos debido al uso del operador de suma que tiene diferentes comportamientos \n",
    "#según el tipo de datos que recibe."
   ]
  },
  {
   "cell_type": "markdown",
   "id": "ae0a23a3",
   "metadata": {},
   "source": [
    "<h2 id=quiz9>Cuestionario sobre clases</h2>"
   ]
  },
  {
   "cell_type": "markdown",
   "id": "606de9a3",
   "metadata": {},
   "source": [
    "##**Actividad a realizar:**\n",
    "\n",
    "\n",
    "La clase matplotlib.patches.Ellipse, permite dibujar elipses desde [matplotlib](https://matplotlib.org/stable/api/_as_gen/matplotlib.patches.Ellipse.html). La clase se importa de la siguiente manera:\n",
    "\n",
    "*from matplotlib.patchs import Ellipse*\n",
    "\n",
    "Se puede dibujar entonces cualquier elipse, dando los argumentos:\n",
    "\n",
    "plt.gca().add_patch(Ellipse(xy, width, height, facecolor = color, edgecolor = edgecolor))\n",
    "\n",
    "Se requiere crear una clase Elipse, la cual el constructor sea con valores iniciales cualesquiera. Adicionalmente, la clase debe tener los siguientes métodos:\n",
    "\n",
    "1.- Cambiar el ancho\n",
    "\n",
    "2.- Cambiar el alto\n",
    "\n",
    "3.- Cambiar el color de relleno\n",
    "\n",
    "4.- Cambiar el color de borde\n",
    "\n",
    "5.- Dibujar"
   ]
  },
  {
   "cell_type": "code",
   "execution_count": 19,
   "id": "08f59f7c",
   "metadata": {},
   "outputs": [
    {
     "data": {
      "image/png": "[encoded data removed]",
      "text/plain": [
       "<Figure size 640x480 with 1 Axes>"
      ]
     },
     "metadata": {},
     "output_type": "display_data"
    }
   ],
   "source": [
    "#Importamos las librerias necesarias\n",
    "import matplotlib.pyplot as plt\n",
    "from matplotlib.patches import Ellipse\n",
    "# Creamos la clase\n",
    "class elipse(object):\n",
    "    \n",
    "    #Constructor con los parametros necesarios\n",
    "    def __init__(self, xy=(0, 0), width=1, height=1, facecolor='none', edgecolor='black'):\n",
    "        self.xy = xy\n",
    "        self.width = width\n",
    "        self.height = height\n",
    "        self.facecolor = facecolor\n",
    "        self.edgecolor = edgecolor\n",
    "    # Metodo para cambiar el ancho de la elipse\n",
    "    def cambiar_ancho(self, nuevo_ancho):\n",
    "        self.width = nuevo_ancho\n",
    "        \n",
    "    # Metodo para cambiar el alto de la elipse\n",
    "    def cambiar_alto(self, nuevo_alto):\n",
    "        self.height = nuevo_alto\n",
    "        \n",
    "    # Metodo para cambiar el color de relleno\n",
    "    def cambiar_color_relleno(self, nuevo_color):\n",
    "        self.facecolor = nuevo_color\n",
    "        \n",
    "    # Metodo para cambiar el color de borde\n",
    "    def cambiar_color_borde(self, nuevo_color):\n",
    "        self.edgecolor = nuevo_color\n",
    "        \n",
    "    # Metodo para dibujar la elipse\n",
    "    def dibujar(self):\n",
    "        plt.gca().add_patch(Ellipse(self.xy, self.width, self.height, facecolor = self.facecolor, edgecolor = self.edgecolor))\n",
    "        plt.axis('equal')\n",
    "        plt.show()\n",
    "\n",
    "\n",
    "        \n",
    "elipse1 = elipse(xy=(2, 3), width=2, height=1, facecolor='blue', edgecolor='red')\n",
    "elipse1.dibujar()"
   ]
  },
  {
   "cell_type": "markdown",
   "id": "44983095",
   "metadata": {},
   "source": [
    "# 1.- Cambiar el ancho"
   ]
  },
  {
   "cell_type": "code",
   "execution_count": 20,
   "id": "8842b627",
   "metadata": {},
   "outputs": [
    {
     "data": {
      "text/plain": [
       "5"
      ]
     },
     "execution_count": 20,
     "metadata": {},
     "output_type": "execute_result"
    }
   ],
   "source": [
    "elipse1.cambiar_ancho(5)\n",
    "elipse1.width"
   ]
  },
  {
   "cell_type": "markdown",
   "id": "00a29a60",
   "metadata": {},
   "source": [
    "# 2.- Cambiar el alto"
   ]
  },
  {
   "cell_type": "code",
   "execution_count": 21,
   "id": "1935aa7b",
   "metadata": {},
   "outputs": [
    {
     "name": "stdout",
     "output_type": "stream",
     "text": [
      "10\n"
     ]
    }
   ],
   "source": [
    "elipse1.cambiar_alto(10)\n",
    "print(elipse1.height)"
   ]
  },
  {
   "cell_type": "markdown",
   "id": "372172f8",
   "metadata": {},
   "source": [
    "# 3.- Cambiar el color de rellen"
   ]
  },
  {
   "cell_type": "code",
   "execution_count": 23,
   "id": "589df25a",
   "metadata": {},
   "outputs": [
    {
     "data": {
      "text/plain": [
       "'green'"
      ]
     },
     "execution_count": 23,
     "metadata": {},
     "output_type": "execute_result"
    }
   ],
   "source": [
    "elipse1.cambiar_color_relleno('green')\n",
    "elipse1.facecolor"
   ]
  },
  {
   "cell_type": "markdown",
   "id": "eac37eba",
   "metadata": {},
   "source": [
    "# 4.- Cambiar el color de borde"
   ]
  },
  {
   "cell_type": "code",
   "execution_count": 24,
   "id": "d29fbec0",
   "metadata": {},
   "outputs": [
    {
     "data": {
      "text/plain": [
       "'red'"
      ]
     },
     "execution_count": 24,
     "metadata": {},
     "output_type": "execute_result"
    }
   ],
   "source": [
    "elipse1.cambiar_color_borde('red')\n",
    "elipse1.edgecolor"
   ]
  },
  {
   "cell_type": "markdown",
   "id": "fb65f55d",
   "metadata": {},
   "source": [
    "# 5.- Dibujar"
   ]
  },
  {
   "cell_type": "code",
   "execution_count": 25,
   "id": "2f04436f",
   "metadata": {},
   "outputs": [
    {
     "data": {
      "image/png": "[encoded data removed]",
      "text/plain": [
       "<Figure size 640x480 with 1 Axes>"
      ]
     },
     "metadata": {},
     "output_type": "display_data"
    }
   ],
   "source": [
    "elipse1.dibujar()"
   ]
  },
  {
   "cell_type": "markdown",
   "id": "0262cf6c",
   "metadata": {},
   "source": [
    "<h1 id=bono>BONO<h2/>"
   ]
  },
  {
   "cell_type": "markdown",
   "id": "f6531c12",
   "metadata": {},
   "source": [
    "## CALENTAMIENTO:"
   ]
  },
  {
   "cell_type": "markdown",
   "id": "e252faff",
   "metadata": {},
   "source": [
    "#### MENOR DE DOS PARES: Escriba una función que devuelva el menor de dos números dados *si* ambos números son pares, pero devuelva el mayor si uno o ambos números son impares\n",
    "    lesser_of_two_evens(2,4) --> 2\n",
    "    lesser_of_two_evens(2,5) --> 5"
   ]
  },
  {
   "cell_type": "code",
   "execution_count": 43,
   "id": "c28bab0d",
   "metadata": {},
   "outputs": [
    {
     "name": "stdout",
     "output_type": "stream",
     "text": [
      "2\n",
      "5\n"
     ]
    }
   ],
   "source": [
    "def lesser_of_two_evens(a, b):\n",
    "    # Verificar si ambos números son pares\n",
    "    if a % 2 == 0 and b % 2 == 0:\n",
    "        # Ambos son pares, devolver el menor\n",
    "        return min(a, b)\n",
    "    else:\n",
    "        # Al menos uno es impar, devolver el mayor\n",
    "        return max(a, b)\n",
    "\n",
    "# Ejemplos de uso\n",
    "print(lesser_of_two_evens(2, 4))  # Devuelve 2 (ambos son pares, devuelve el menor)\n",
    "print(lesser_of_two_evens(2, 5))  # Devuelve 5 (uno es impar, devuelve el mayor)\n"
   ]
  },
  {
   "cell_type": "markdown",
   "id": "bcc04794",
   "metadata": {},
   "source": [
    "#### GALLETAS DE ANIMALES: Escribir una función que toma una cadena de dos palabras y devuelve True si ambas palabras comienzan con la misma letra\n",
    "    animal_crackers('Ciudad Calor') --> True\n",
    "    animal_crackers('Lugar Frio') --> False"
   ]
  },
  {
   "cell_type": "code",
   "execution_count": 52,
   "id": "3c2289d7",
   "metadata": {},
   "outputs": [
    {
     "name": "stdout",
     "output_type": "stream",
     "text": [
      "True\n",
      "False\n"
     ]
    }
   ],
   "source": [
    "def animal_crackers(a):\n",
    "    # Dividir la cadena en palabras\n",
    "    b = a.split()\n",
    "    # Verificar si la primera letra de ambas palabras es la misma\n",
    "    if b[0][0] == b[1][0]:\n",
    "        return True\n",
    "    else:\n",
    "        return False\n",
    "print(animal_crackers('Ciudad Calor'))\n",
    "print(animal_crackers('Lugar Frio'))"
   ]
  },
  {
   "cell_type": "markdown",
   "id": "057a4434",
   "metadata": {},
   "source": [
    "#### HACE VEINTE: dados dos enteros, devuelve True si la suma de los enteros es 20 o si uno de los enteros es 20. De lo contrario, devuelve False\n",
    "\n",
    "    makes_twenty(20,10) --> True\n",
    "    makes_twenty(12,8) --> True\n",
    "    makes_twenty(2,3) --> False"
   ]
  },
  {
   "cell_type": "code",
   "execution_count": 48,
   "id": "52d04d5b",
   "metadata": {},
   "outputs": [
    {
     "name": "stdout",
     "output_type": "stream",
     "text": [
      "True\n",
      "True\n",
      "False\n"
     ]
    }
   ],
   "source": [
    "def makes_twenty(a, b):\n",
    "    return a == 20 or b == 20 or a + b == 20\n",
    "\n",
    "# Ejemplos de uso\n",
    "print(makes_twenty(20, 10))  # Devuelve True (20 es uno de los enteros)\n",
    "print(makes_twenty(12, 8))    # Devuelve True (la suma de 12 y 8 es 20)\n",
    "print(makes_twenty(2, 3))     # Devuelve False (ni 2 ni 3 son 20, y su suma no es 20)\n"
   ]
  },
  {
   "cell_type": "markdown",
   "id": "3eaa3bb5",
   "metadata": {},
   "source": [
    "# Nivel 1"
   ]
  },
  {
   "cell_type": "markdown",
   "id": "f917cdb4",
   "metadata": {},
   "source": [
    "#### MAYÚSCULAS: Escribir una función que haga mayúscula la primera y cuarta letra de una cadena de texto\n",
    "     \n",
    "    old_macdonald('macdonald') --> MacDonald\n",
    "    \n",
    "Note: `'macdonald'.capitalize()` returns `'Macdonald'`"
   ]
  },
  {
   "cell_type": "code",
   "execution_count": 53,
   "id": "a6ff9e9a",
   "metadata": {},
   "outputs": [
    {
     "name": "stdout",
     "output_type": "stream",
     "text": [
      "MacDonald\n"
     ]
    }
   ],
   "source": [
    "def old_macdonald(cadena):\n",
    "    # Verificar si la cadena tiene al menos 4 caracteres\n",
    "    if len(cadena) >= 4:\n",
    "        # Hacer mayúscula la primera y cuarta letra\n",
    "        nueva_cadena = cadena[:1].capitalize() + cadena[1:3] + cadena[3:4].capitalize() + cadena[4:]\n",
    "        return nueva_cadena\n",
    "    else:\n",
    "        return \"La cadena es demasiado corta para aplicar el formato.\"\n",
    "\n",
    "# Ejemplo de uso\n",
    "print(old_macdonald('macdonald'))  # Devuelve 'MacDonald'\n"
   ]
  },
  {
   "cell_type": "markdown",
   "id": "a37361c2",
   "metadata": {},
   "source": [
    "#### REVERSA: Dada una oración, retornar la misma oración pero en reversa\n",
    "\n",
    "    master_yoda('I am home') --> 'home am I'\n",
    "    master_yoda('We are ready') --> 'ready are We'\n",
    "    \n",
    "Note: Revisar método .join()\n",
    "\n",
    "    >>> \"--\".join(['a','b','c'])\n",
    "    >>> 'a--b--c'\n",
    "\n",
    "Resultado de .join():\n",
    "\n",
    "    >>> \" \".join(['Hello','world'])\n",
    "    >>> \"Hello world\""
   ]
  },
  {
   "cell_type": "code",
   "execution_count": 54,
   "id": "5a9bcfe2",
   "metadata": {},
   "outputs": [
    {
     "name": "stdout",
     "output_type": "stream",
     "text": [
      "home am I\n",
      "ready are We\n"
     ]
    }
   ],
   "source": [
    "def master_yoda(oracion):\n",
    "    # Dividir la oración en palabras\n",
    "    palabras = oracion.split()\n",
    "\n",
    "    # Invertir la lista de palabras y unirlas con un espacio entre ellas\n",
    "    oracion_invertida = \" \".join(reversed(palabras))\n",
    "\n",
    "    return oracion_invertida\n",
    "\n",
    "# Ejemplos de uso\n",
    "print(master_yoda('I am home'))      # Devuelve 'home am I'\n",
    "print(master_yoda('We are ready'))    # Devuelve 'ready are We'\n"
   ]
  },
  {
   "cell_type": "markdown",
   "id": "74d31fa8",
   "metadata": {},
   "source": [
    "## Nivel 2"
   ]
  },
  {
   "cell_type": "markdown",
   "id": "e9ca929e",
   "metadata": {},
   "source": [
    "#### PROBLEMA 33: \n",
    "\n",
    "Dada una lista de enteros, retornar True si el arreglo tinene un  3  seguido por un  3 .\n",
    "\n",
    "    has_33([1, 3, 3]) → True\n",
    "    has_33([1, 3, 1, 3]) → False\n",
    "    has_33([3, 1, 3]) → False"
   ]
  },
  {
   "cell_type": "code",
   "execution_count": 55,
   "id": "b1f35ceb",
   "metadata": {},
   "outputs": [
    {
     "name": "stdout",
     "output_type": "stream",
     "text": [
      "True\n",
      "False\n",
      "False\n"
     ]
    }
   ],
   "source": [
    "def has_33(arr):\n",
    "    for i in range(len(arr) - 1):\n",
    "        if arr[i] == 3 and arr[i + 1] == 3:\n",
    "            return True\n",
    "    return False\n",
    "\n",
    "# Ejemplos de uso\n",
    "print(has_33([1, 3, 3]))      # Devuelve True\n",
    "print(has_33([1, 3, 1, 3]))   # Devuelve False\n",
    "print(has_33([3, 1, 3]))      # Devuelve False\n"
   ]
  },
  {
   "cell_type": "markdown",
   "id": "9c3d6bef",
   "metadata": {},
   "source": [
    "#### REPLICADOR: Dada una cadena, devuelve una cadena donde por cada carácter en el original hay tres caracteres REPETIDOS\n",
    "    paper_doll('Hello') --> 'HHHeeellllllooo'\n",
    "    paper_doll('Mississippi') --> 'MMMiiissssssiiippppppiii'"
   ]
  },
  {
   "cell_type": "code",
   "execution_count": 56,
   "id": "29eb9b04",
   "metadata": {},
   "outputs": [
    {
     "name": "stdout",
     "output_type": "stream",
     "text": [
      "HHHeeellllllooo\n",
      "MMMiiissssssiiissssssiiippppppiii\n"
     ]
    }
   ],
   "source": [
    "def paper_doll(cadena):\n",
    "    resultado = \"\"\n",
    "    for char in cadena:\n",
    "        resultado += char * 3\n",
    "    return resultado\n",
    "\n",
    "# Ejemplos de uso\n",
    "print(paper_doll('Hello'))        # Devuelve 'HHHeeellllllooo'\n",
    "print(paper_doll('Mississippi'))   # Devuelve 'MMMiiissssssiiippppppiii'\n"
   ]
  },
  {
   "cell_type": "markdown",
   "id": "bf389b9b",
   "metadata": {},
   "source": [
    "#### BLACKJACK: Dados tres enteros entre 1 y 11, si su suma es menor o igual a 21, devuelve su suma. Si su suma excede 21 *y* hay un once, reduce la suma total en 10. Finalmente, si la suma (incluso después del ajuste) excede 21, devuelve 'BUST'\n",
    "    blackjack(5,6,7) --> 18\n",
    "    blackjack(9,9,9) --> 'BUST'\n",
    "    blackjack(9,9,11) --> 19"
   ]
  },
  {
   "cell_type": "code",
   "execution_count": 58,
   "id": "613d94f7",
   "metadata": {},
   "outputs": [
    {
     "name": "stdout",
     "output_type": "stream",
     "text": [
      "18\n",
      "BUST\n",
      "19\n"
     ]
    }
   ],
   "source": [
    "def blackjack(a, b, c):\n",
    "    suma_total = a + b + c\n",
    "\n",
    "    # Verificar si la suma es menor o igual a 21\n",
    "    if suma_total <= 21:\n",
    "        return suma_total\n",
    "    elif 11 in (a, b, c) and suma_total - 10 <= 21:\n",
    "        # Si hay un once y ajustar la suma restando 10 no excede 21, hacer el ajuste\n",
    "        return suma_total - 10\n",
    "    else:\n",
    "        # La suma excede 21 incluso después del ajuste\n",
    "        return 'BUST'\n",
    "\n",
    "# Ejemplos de uso\n",
    "print(blackjack(5, 6, 7))    # Devuelve 18\n",
    "print(blackjack(9, 9, 9))    # Devuelve 'BUST'\n",
    "print(blackjack(9, 9, 11))   # Devuelve 19\n"
   ]
  },
  {
   "cell_type": "code",
   "execution_count": null,
   "id": "fd2fbf68",
   "metadata": {},
   "outputs": [],
   "source": []
  }
 ],
 "metadata": {
  "kernelspec": {
   "display_name": "Python 3 (ipykernel)",
   "language": "python",
   "name": "python3"
  },
  "language_info": {
   "codemirror_mode": {
    "name": "ipython",
    "version": 3
   },
   "file_extension": ".py",
   "mimetype": "text/x-python",
   "name": "python",
   "nbconvert_exporter": "python",
   "pygments_lexer": "ipython3",
   "version": "3.10.9"
  }
 },
 "nbformat": 4,
 "nbformat_minor": 5
}
