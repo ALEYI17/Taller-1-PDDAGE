{
 "cells": [
  {
   "cell_type": "markdown",
   "id": "c8408b71",
   "metadata": {},
   "source": [
    "# Taller 0: Introducción a Python\n",
    "\n",
    "## Facilitador: Alejandro Salamanca\n",
    "## Fecha: 31 de enero de 2024\n",
    "## Clase: Procesamiento de Datos a Gran Escala\n",
    "## Profesor: John Corredor\n",
    "## Universidad: Pontificia Universidad Javeriana\n",
    "\n",
    "---\n",
    "\n",
    "# Taller 0: Introducción a Python\n",
    "\n",
    "Este taller proporciona una introducción práctica a los fundamentos de Python, enfocado en el contexto de Procesamiento de Datos a Gran Escala.\n",
    "\n",
    "## Objetivos\n",
    "\n",
    "- Familiarizarse con la sintaxis básica de Python.\n",
    "- Entender los conceptos fundamentales de programación.\n",
    "- Aplicar los conocimientos adquiridos en ejercicios prácticos.\n",
    "\n",
    "## Contenido\n",
    "\n",
    "1. <a href=\"#quiz1\">Cadenas<a/>\n",
    "2. <a href=\"#quiz2\">Tuplas<a/>\n",
    "\n",
    "\n",
    "---\n",
    "## Facilitador\n",
    "\n",
    "Alejandro Salamanca  \n",
    "Estudiante de Ingeniería de Sistemas  \n",
    "[al_salamanca@javeriana.edu.co]"
   ]
  },
  {
   "cell_type": "markdown",
   "id": "22bca214",
   "metadata": {},
   "source": [
    " <h2 id=\"quiz1\">Exámen sobre Cadenas</h2>"
   ]
  },
  {
   "cell_type": "markdown",
   "id": "6434b6ea",
   "metadata": {},
   "source": [
    "¿Cual es el valor de la variable <code>A</code> después de ejecutar el siguiente código?"
   ]
  },
  {
   "cell_type": "code",
   "execution_count": 4,
   "id": "9921fbb3",
   "metadata": {},
   "outputs": [
    {
     "name": "stdout",
     "output_type": "stream",
     "text": [
      "1\n"
     ]
    }
   ],
   "source": [
    "# Escribe abajo tu código y presiona Shift+Enter para ejecutarlo\n",
    "\n",
    "A = \"1\"\n",
    "print(A)\n",
    "# La respuesta deberia ser el numero 1 ya que simplemente se le dio una cadena con el numero 1 a la variable A,\n",
    "#mas no es un numero con un int ya que si se suma con otra cadena por ejemplo 2 deberia dar 12"
   ]
  },
  {
   "cell_type": "markdown",
   "id": "93e792d1",
   "metadata": {},
   "source": [
    "¿Cual es el valor de la variable <code>B</code> después de ejecutar el siguiente código?"
   ]
  },
  {
   "cell_type": "code",
   "execution_count": 2,
   "id": "49b3d6d3",
   "metadata": {},
   "outputs": [
    {
     "name": "stdout",
     "output_type": "stream",
     "text": [
      "2\n"
     ]
    }
   ],
   "source": [
    "# Escribe abajo tu código y presiona Shift+Enter para ejecutarlo\n",
    "\n",
    "B = \"2\"\n",
    "print(B)\n",
    "# La respuesta deberia ser el numero 2 ya que simplemente se le dio una cadena con el numero 2 a la variable B,\n",
    "#mas no es un numero con un int ya que si se suma con otra cadena por ejemplo 2 deberia dar 22"
   ]
  },
  {
   "cell_type": "markdown",
   "id": "88261eec",
   "metadata": {},
   "source": [
    "¿Cual es el valor de la variable <code>C</code> después de ejecutar el siguiente código?"
   ]
  },
  {
   "cell_type": "code",
   "execution_count": 5,
   "id": "6b11832c",
   "metadata": {},
   "outputs": [
    {
     "name": "stdout",
     "output_type": "stream",
     "text": [
      "12\n"
     ]
    }
   ],
   "source": [
    "# Escribe abajo tu código y presiona Shift+Enter para ejecutarlo\n",
    "\n",
    "C = A + B\n",
    "print(C)\n",
    "# El valor de la cadena C debe ser 12, esto porque estamos trabajando con cadenas y no numeros, si fueran numeros daria 3\n",
    "# las cadenas se unen una a otra como si fuera un pegamento y no como una adicion matematica"
   ]
  },
  {
   "cell_type": "markdown",
   "id": "27068aaa",
   "metadata": {},
   "source": [
    "En la variable <code>D</code> haz uso del slicing para imprimir solo los primeros tres elementos:"
   ]
  },
  {
   "cell_type": "code",
   "execution_count": 6,
   "id": "8f3f1c9b",
   "metadata": {},
   "outputs": [
    {
     "name": "stdout",
     "output_type": "stream",
     "text": [
      "ABC\n"
     ]
    }
   ],
   "source": [
    "# Escribe abajo tu código y presiona Shift+Enter para ejecutarlo\n",
    "\n",
    "D = \"ABCDEFG\"\n",
    "slice = D[0:3]\n",
    "print(slice)\n",
    "# Para el slice se usa ':' , y ademas se hace del 0 al 3 para los primeros 3 elementos ya que se indexa desde el 0 por lo que \n",
    "# ya son 3 elementos del 0 al 3"
   ]
  },
  {
   "cell_type": "markdown",
   "id": "c7b1c031",
   "metadata": {},
   "source": [
    "Usa un valor de stride de 2 para imprimir cada segundo elemento de la cadena <code>E</code>:"
   ]
  },
  {
   "cell_type": "code",
   "execution_count": 7,
   "id": "e2d19f25",
   "metadata": {},
   "outputs": [
    {
     "name": "stdout",
     "output_type": "stream",
     "text": [
      "correct\n"
     ]
    }
   ],
   "source": [
    "# Escribe abajo tu código y presiona Shift+Enter para ejecutarlo\n",
    "\n",
    "E = 'clocrkr1e1c1t'\n",
    "stride= E[::2]\n",
    "print(stride)\n",
    "#El stride se hace usando :: y despues se indica el numero con el cual se quieren hacer los \"Saltos\", por lo que \n",
    "#para conseguir cada segundo elemento se pone el 2 "
   ]
  },
  {
   "cell_type": "markdown",
   "id": "d66fecf4",
   "metadata": {},
   "source": [
    "Imprime una barra invertida:"
   ]
  },
  {
   "cell_type": "code",
   "execution_count": 8,
   "id": "b2eb0091",
   "metadata": {},
   "outputs": [
    {
     "name": "stdout",
     "output_type": "stream",
     "text": [
      "\\\n"
     ]
    }
   ],
   "source": [
    "# Escribe abajo tu código y presiona Shift+Enter para ejecutarlo\n",
    "\n",
    "print(\"\\\\\")\n",
    "# Para imprimir una barra invertida es necesario poner dos, ya que si solo ponemos una sale el siguiemte error:\n",
    "# \"SyntaxError: unterminated string literal (detected at line 3)\" ya que una se usa para ciertos caracteres especiales como \\n"
   ]
  },
  {
   "cell_type": "markdown",
   "id": "5ec66f3c",
   "metadata": {},
   "source": [
    "Convierte el mayúsculas el contenido de la variable <code>F</code>:"
   ]
  },
  {
   "cell_type": "code",
   "execution_count": 9,
   "id": "d54e7e19",
   "metadata": {},
   "outputs": [
    {
     "name": "stdout",
     "output_type": "stream",
     "text": [
      "YOU ARE WRONG\n"
     ]
    }
   ],
   "source": [
    "# Escribe abajo tu código y presiona Shift+Enter para ejecutarlo\n",
    "\n",
    "F = \"You are wrong\"\n",
    "upper= F.upper()\n",
    "print(upper)\n",
    "# Para convertir una cadena en mayusculas se tiene que utilizar el metodo 'upper' , por lo que devolvera la variable en mayusculas\n",
    "# y eso lo guardamos en una variable y lo imprimimos para ver el resultado "
   ]
  },
  {
   "cell_type": "markdown",
   "id": "c8d8a261",
   "metadata": {},
   "source": [
    "En la variable <code>G</code>, encuentra el primer índice de la sub-cadena <code>snow</code>:"
   ]
  },
  {
   "cell_type": "code",
   "execution_count": 10,
   "id": "bb868d93",
   "metadata": {},
   "outputs": [
    {
     "name": "stdout",
     "output_type": "stream",
     "text": [
      "95\n",
      "snow\n"
     ]
    }
   ],
   "source": [
    "# Escribe abajo tu código y presiona Shift+Enter para ejecutarlo\n",
    "\n",
    "G = \"Mary had a little lamb Little lamb, little lamb Mary had a little lamb \\\n",
    "Its fleece was white as snow And everywhere that Mary went Mary went, Mary went \\\n",
    "Everywhere that Mary went The lamb was sure to go\"\n",
    "\n",
    "find= G.find('snow')\n",
    "print(find)\n",
    "print(G[95:99])\n",
    "\n",
    "# Lo que hice fue usar el metodo find para encontrar la respuesta, esto devolvio el numero 95 por lo que la palabra comienza ahí\n",
    "# entonces despues lo verifique usando la indexación "
   ]
  },
  {
   "cell_type": "markdown",
   "id": "0948a1cd",
   "metadata": {},
   "source": [
    "En la variable <code>G</code>, reemplaza la sub-cadena <code>Mary</code> con <code>Bob</code>:"
   ]
  },
  {
   "cell_type": "code",
   "execution_count": 11,
   "id": "c073377a",
   "metadata": {},
   "outputs": [
    {
     "name": "stdout",
     "output_type": "stream",
     "text": [
      "Bob had a little lamb Little lamb, little lamb Bob had a little lamb Its fleece was white as snow And everywhere that Bob went Bob went, Bob went Everywhere that Bob went The lamb was sure to go\n"
     ]
    }
   ],
   "source": [
    "# Escribe abajo tu código y presiona Shift+Enter para ejecutarlo\n",
    "remplazo= G.replace('Mary','Bob')\n",
    "print(remplazo)\n",
    "# Para realizar el cambio se usa el metodo replace, entonces en el primer parametro se tiene que poner la sub-cadena que se busca\n",
    "# cambiar y en el segundo argumento se debe poner la cadena nueva , por lo que la respuesta queda asi."
   ]
  },
  {
   "cell_type": "markdown",
   "id": "5773da95",
   "metadata": {},
   "source": [
    "<h2 id=\"quiz2\">Exámen sobre Tuplas</h2>"
   ]
  },
  {
   "cell_type": "markdown",
   "id": "d7059fd0",
   "metadata": {},
   "source": [
    "Considérese la siguiente tupla:"
   ]
  },
  {
   "cell_type": "code",
   "execution_count": 12,
   "id": "55a1dc2b",
   "metadata": {},
   "outputs": [
    {
     "data": {
      "text/plain": [
       "('pop',\n",
       " 'rock',\n",
       " 'soul',\n",
       " 'hard rock',\n",
       " 'soft rock',\n",
       " 'R&B',\n",
       " 'progressive rock',\n",
       " 'disco')"
      ]
     },
     "execution_count": 12,
     "metadata": {},
     "output_type": "execute_result"
    }
   ],
   "source": [
    "# Tupla de ejemplo\n",
    "\n",
    "genres_tuple = (\"pop\", \"rock\", \"soul\", \"hard rock\", \"soft rock\", \\\n",
    "                \"R&B\", \"progressive rock\", \"disco\") \n",
    "genres_tuple"
   ]
  },
  {
   "cell_type": "markdown",
   "id": "84b461e5",
   "metadata": {},
   "source": [
    "Encontrar la longitud de la tupla, <code>genres_tuple</code>:"
   ]
  },
  {
   "cell_type": "code",
   "execution_count": 13,
   "id": "2c104964",
   "metadata": {},
   "outputs": [
    {
     "data": {
      "text/plain": [
       "8"
      ]
     },
     "execution_count": 13,
     "metadata": {},
     "output_type": "execute_result"
    }
   ],
   "source": [
    "# Escribe abajo tu código y presiona Shift+Enter para ejecutarlo\n",
    "len(genres_tuple)\n",
    "# para encontrar la longitud de una tupla se puede usar la funcion len, la respuesta es 8 ya que tenemos 8 elementos en la tupla"
   ]
  },
  {
   "cell_type": "markdown",
   "id": "d3897e91",
   "metadata": {},
   "source": [
    "<img src=\"https://s3-api.us-geo.objectstorage.softlayer.net/cf-courses-data/CognitiveClass/PY0101EN/Chapter%202/Images/TuplesQuiz.png\" width=\"1100\" align=\"center\">"
   ]
  },
  {
   "cell_type": "markdown",
   "id": "a6469242",
   "metadata": {},
   "source": [
    "Accede al elemento en el índice 3:"
   ]
  },
  {
   "cell_type": "code",
   "execution_count": 14,
   "id": "f5ac4b44",
   "metadata": {},
   "outputs": [
    {
     "data": {
      "text/plain": [
       "'hard rock'"
      ]
     },
     "execution_count": 14,
     "metadata": {},
     "output_type": "execute_result"
    }
   ],
   "source": [
    "# Escribe abajo tu código y presiona Shift+Enter para ejecutarlo\n",
    "genres_tuple[3]\n",
    "# para acceder al indice de un elemento se usa \"[]\" y como nos piden el tercer indice pues ponemos en 3"
   ]
  },
  {
   "cell_type": "markdown",
   "id": "6568c1e8",
   "metadata": {},
   "source": [
    "Utiliza el slicing para obtener los índices 3, 4 y 5:"
   ]
  },
  {
   "cell_type": "code",
   "execution_count": 15,
   "id": "3c332971",
   "metadata": {},
   "outputs": [
    {
     "data": {
      "text/plain": [
       "('hard rock', 'soft rock', 'R&B')"
      ]
     },
     "execution_count": 15,
     "metadata": {},
     "output_type": "execute_result"
    }
   ],
   "source": [
    "# Escribe abajo tu código y presiona Shift+Enter para ejecutarlo\n",
    "genres_tuple[3:6]\n",
    "# En este caso, genres_tuple[3:6] devolverá una nueva tupla con los elementos en los índices 3, 4 y 5 de la tupla original\n",
    "# El índice final del rango en el slicing no está incluido, por lo que se usa 6 para incluir el elemento en el índice 5."
   ]
  },
  {
   "cell_type": "markdown",
   "id": "b6873393",
   "metadata": {},
   "source": [
    "Encuentra los primeros dos elementos de la tupla <code>genres_tuple</code>:"
   ]
  },
  {
   "cell_type": "code",
   "execution_count": 16,
   "id": "c2e049ff",
   "metadata": {},
   "outputs": [
    {
     "data": {
      "text/plain": [
       "('pop', 'rock')"
      ]
     },
     "execution_count": 16,
     "metadata": {},
     "output_type": "execute_result"
    }
   ],
   "source": [
    "# Escribe abajo tu código y presiona Shift+Enter para ejecutarlo\n",
    "genres_tuple[:2]\n",
    "# En este caso, genres_tuple[:2] devolverá una nueva tupla que contiene los elementos en los índices 0 y 1 de la tupla original. \n",
    "# La salida será ('pop', 'rock'). En el slicing, el índice final no está incluido, por lo que [:2] selecciona los elementos desde el \n",
    "# inicio hasta el índice 1."
   ]
  },
  {
   "cell_type": "markdown",
   "id": "14ff1a46",
   "metadata": {},
   "source": [
    "Encuentra el primer índice de <code>\"disco\"</code>:"
   ]
  },
  {
   "cell_type": "code",
   "execution_count": 17,
   "id": "b5048438",
   "metadata": {},
   "outputs": [
    {
     "data": {
      "text/plain": [
       "7"
      ]
     },
     "execution_count": 17,
     "metadata": {},
     "output_type": "execute_result"
    }
   ],
   "source": [
    "# Escribe abajo tu código y presiona Shift+Enter para ejecutarlo\n",
    "genres_tuple.index(\"disco\")\n",
    "# para encontrar el primer índice de la cadena \"disco\" en la tupla genres_tuple. Se utiliza el método index() \n",
    "#que devuelve el índice del primer elemento igual al argumento pasado. "
   ]
  },
  {
   "cell_type": "markdown",
   "id": "b188311d",
   "metadata": {},
   "source": [
    "Genera una lista ordenada desde la tupla <code>C_tuple=(-5, 1, -3)</code>:"
   ]
  },
  {
   "cell_type": "code",
   "execution_count": 18,
   "id": "f711e1d0",
   "metadata": {},
   "outputs": [
    {
     "data": {
      "text/plain": [
       "[-5, -3, 1]"
      ]
     },
     "execution_count": 18,
     "metadata": {},
     "output_type": "execute_result"
    }
   ],
   "source": [
    "# Escribe abajo tu código y presiona Shift+Enter para ejecutarlo\n",
    "C_tuple=(-5, 1, -3)\n",
    "sorted(C_tuple)\n",
    "# La función sorted() en Python se utiliza para ordenar los elementos de una secuencia, \n",
    "# como una tupla, y devuelve una nueva lista con los elementos ordenados.\n",
    "# En el caso de C_tuple=(-5, 1, -3), si aplicas sorted(C_tuple), obtendrás una nueva lista con los elementos ordenados \n",
    "# de menor a mayor. En este ejemplo, la salida sería [-5, -3, 1]"
   ]
  },
  {
   "cell_type": "code",
   "execution_count": null,
   "id": "261978e1",
   "metadata": {},
   "outputs": [],
   "source": []
  }
 ],
 "metadata": {
  "kernelspec": {
   "display_name": "Python 3 (ipykernel)",
   "language": "python",
   "name": "python3"
  },
  "language_info": {
   "codemirror_mode": {
    "name": "ipython",
    "version": 3
   },
   "file_extension": ".py",
   "mimetype": "text/x-python",
   "name": "python",
   "nbconvert_exporter": "python",
   "pygments_lexer": "ipython3",
   "version": "3.10.9"
  }
 },
 "nbformat": 4,
 "nbformat_minor": 5
}
