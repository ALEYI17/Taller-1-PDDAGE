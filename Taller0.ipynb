{
 "cells": [
  {
   "cell_type": "markdown",
   "id": "b664c507",
   "metadata": {},
   "source": [
    "# Taller 0: Introducción a Python\n",
    "\n",
    "## Facilitador: Alejandro Salamanca\n",
    "## Fecha: 31 de enero de 2024\n",
    "## Clase: Procesamiento de Datos a Gran Escala\n",
    "## Profesor: John Corredor\n",
    "## Universidad: Pontificia Universidad Javeriana\n",
    "\n",
    "---\n",
    "\n",
    "# Taller 0: Introducción a Python\n",
    "\n",
    "Este taller proporciona una introducción práctica a los fundamentos de Python, enfocado en el contexto de Procesamiento de Datos a Gran Escala.\n",
    "\n",
    "## Objetivos\n",
    "\n",
    "- Familiarizarse con la sintaxis básica de Python.\n",
    "- Entender los conceptos fundamentales de programación.\n",
    "- Aplicar los conocimientos adquiridos en ejercicios prácticos.\n",
    "\n",
    "## Contenido\n",
    "\n",
    "1. <a href=\"#quiz1\">Cadenas<a/>\n",
    "2. <a href=\"#quiz2\">Tuplas<a/>\n",
    "3. <a href=\"#quiz3\">Listas<a/>\n",
    "\n",
    "\n",
    "---\n",
    "## Facilitador\n",
    "\n",
    "Alejandro Salamanca  \n",
    "Estudiante de Ingeniería de Sistemas  \n",
    "[al_salamanca@javeriana.edu.co]"
   ]
  },
  {
   "cell_type": "markdown",
   "id": "c9872325",
   "metadata": {},
   "source": [
    " <h2 id=\"quiz1\">Exámen sobre Cadenas</h2>"
   ]
  },
  {
   "cell_type": "markdown",
   "id": "3863b604",
   "metadata": {},
   "source": [
    "¿Cual es el valor de la variable <code>A</code> después de ejecutar el siguiente código?"
   ]
  },
  {
   "cell_type": "code",
   "execution_count": 4,
   "id": "9a160103",
   "metadata": {},
   "outputs": [
    {
     "name": "stdout",
     "output_type": "stream",
     "text": [
      "1\n"
     ]
    }
   ],
   "source": [
    "# Escribe abajo tu código y presiona Shift+Enter para ejecutarlo\n",
    "\n",
    "A = \"1\"\n",
    "print(A)\n",
    "# La respuesta deberia ser el numero 1 ya que simplemente se le dio una cadena con el numero 1 a la variable A,\n",
    "#mas no es un numero con un int ya que si se suma con otra cadena por ejemplo 2 deberia dar 12"
   ]
  },
  {
   "cell_type": "markdown",
   "id": "572874c8",
   "metadata": {},
   "source": [
    "¿Cual es el valor de la variable <code>B</code> después de ejecutar el siguiente código?"
   ]
  },
  {
   "cell_type": "code",
   "execution_count": 2,
   "id": "336c4671",
   "metadata": {},
   "outputs": [
    {
     "name": "stdout",
     "output_type": "stream",
     "text": [
      "2\n"
     ]
    }
   ],
   "source": [
    "# Escribe abajo tu código y presiona Shift+Enter para ejecutarlo\n",
    "\n",
    "B = \"2\"\n",
    "print(B)\n",
    "# La respuesta deberia ser el numero 2 ya que simplemente se le dio una cadena con el numero 2 a la variable B,\n",
    "#mas no es un numero con un int ya que si se suma con otra cadena por ejemplo 2 deberia dar 22"
   ]
  },
  {
   "cell_type": "markdown",
   "id": "3d3d2b5b",
   "metadata": {},
   "source": [
    "¿Cual es el valor de la variable <code>C</code> después de ejecutar el siguiente código?"
   ]
  },
  {
   "cell_type": "code",
   "execution_count": 5,
   "id": "90b05f53",
   "metadata": {},
   "outputs": [
    {
     "name": "stdout",
     "output_type": "stream",
     "text": [
      "12\n"
     ]
    }
   ],
   "source": [
    "# Escribe abajo tu código y presiona Shift+Enter para ejecutarlo\n",
    "\n",
    "C = A + B\n",
    "print(C)\n",
    "# El valor de la cadena C debe ser 12, esto porque estamos trabajando con cadenas y no numeros, si fueran numeros daria 3\n",
    "# las cadenas se unen una a otra como si fuera un pegamento y no como una adicion matematica"
   ]
  },
  {
   "cell_type": "markdown",
   "id": "6e97f46e",
   "metadata": {},
   "source": [
    "En la variable <code>D</code> haz uso del slicing para imprimir solo los primeros tres elementos:"
   ]
  },
  {
   "cell_type": "code",
   "execution_count": 6,
   "id": "cf195ba5",
   "metadata": {},
   "outputs": [
    {
     "name": "stdout",
     "output_type": "stream",
     "text": [
      "ABC\n"
     ]
    }
   ],
   "source": [
    "# Escribe abajo tu código y presiona Shift+Enter para ejecutarlo\n",
    "\n",
    "D = \"ABCDEFG\"\n",
    "slice = D[0:3]\n",
    "print(slice)\n",
    "# Para el slice se usa ':' , y ademas se hace del 0 al 3 para los primeros 3 elementos ya que se indexa desde el 0 por lo que \n",
    "# ya son 3 elementos del 0 al 3"
   ]
  },
  {
   "cell_type": "markdown",
   "id": "f7652ae9",
   "metadata": {},
   "source": [
    "Usa un valor de stride de 2 para imprimir cada segundo elemento de la cadena <code>E</code>:"
   ]
  },
  {
   "cell_type": "code",
   "execution_count": 7,
   "id": "967a5289",
   "metadata": {},
   "outputs": [
    {
     "name": "stdout",
     "output_type": "stream",
     "text": [
      "correct\n"
     ]
    }
   ],
   "source": [
    "# Escribe abajo tu código y presiona Shift+Enter para ejecutarlo\n",
    "\n",
    "E = 'clocrkr1e1c1t'\n",
    "stride= E[::2]\n",
    "print(stride)\n",
    "#El stride se hace usando :: y despues se indica el numero con el cual se quieren hacer los \"Saltos\", por lo que \n",
    "#para conseguir cada segundo elemento se pone el 2 "
   ]
  },
  {
   "cell_type": "markdown",
   "id": "f026c36b",
   "metadata": {},
   "source": [
    "Imprime una barra invertida:"
   ]
  },
  {
   "cell_type": "code",
   "execution_count": 8,
   "id": "b3b446b9",
   "metadata": {},
   "outputs": [
    {
     "name": "stdout",
     "output_type": "stream",
     "text": [
      "\\\n"
     ]
    }
   ],
   "source": [
    "# Escribe abajo tu código y presiona Shift+Enter para ejecutarlo\n",
    "\n",
    "print(\"\\\\\")\n",
    "# Para imprimir una barra invertida es necesario poner dos, ya que si solo ponemos una sale el siguiemte error:\n",
    "# \"SyntaxError: unterminated string literal (detected at line 3)\" ya que una se usa para ciertos caracteres especiales como \\n"
   ]
  },
  {
   "cell_type": "markdown",
   "id": "835ee30c",
   "metadata": {},
   "source": [
    "Convierte el mayúsculas el contenido de la variable <code>F</code>:"
   ]
  },
  {
   "cell_type": "code",
   "execution_count": 9,
   "id": "65bd977e",
   "metadata": {},
   "outputs": [
    {
     "name": "stdout",
     "output_type": "stream",
     "text": [
      "YOU ARE WRONG\n"
     ]
    }
   ],
   "source": [
    "# Escribe abajo tu código y presiona Shift+Enter para ejecutarlo\n",
    "\n",
    "F = \"You are wrong\"\n",
    "upper= F.upper()\n",
    "print(upper)\n",
    "# Para convertir una cadena en mayusculas se tiene que utilizar el metodo 'upper' , por lo que devolvera la variable en mayusculas\n",
    "# y eso lo guardamos en una variable y lo imprimimos para ver el resultado "
   ]
  },
  {
   "cell_type": "markdown",
   "id": "103b38e9",
   "metadata": {},
   "source": [
    "En la variable <code>G</code>, encuentra el primer índice de la sub-cadena <code>snow</code>:"
   ]
  },
  {
   "cell_type": "code",
   "execution_count": 10,
   "id": "bc0fed5d",
   "metadata": {},
   "outputs": [
    {
     "name": "stdout",
     "output_type": "stream",
     "text": [
      "95\n",
      "snow\n"
     ]
    }
   ],
   "source": [
    "# Escribe abajo tu código y presiona Shift+Enter para ejecutarlo\n",
    "\n",
    "G = \"Mary had a little lamb Little lamb, little lamb Mary had a little lamb \\\n",
    "Its fleece was white as snow And everywhere that Mary went Mary went, Mary went \\\n",
    "Everywhere that Mary went The lamb was sure to go\"\n",
    "\n",
    "find= G.find('snow')\n",
    "print(find)\n",
    "print(G[95:99])\n",
    "\n",
    "# Lo que hice fue usar el metodo find para encontrar la respuesta, esto devolvio el numero 95 por lo que la palabra comienza ahí\n",
    "# entonces despues lo verifique usando la indexación "
   ]
  },
  {
   "cell_type": "markdown",
   "id": "fdd06c26",
   "metadata": {},
   "source": [
    "En la variable <code>G</code>, reemplaza la sub-cadena <code>Mary</code> con <code>Bob</code>:"
   ]
  },
  {
   "cell_type": "code",
   "execution_count": 11,
   "id": "d9f1b97a",
   "metadata": {},
   "outputs": [
    {
     "name": "stdout",
     "output_type": "stream",
     "text": [
      "Bob had a little lamb Little lamb, little lamb Bob had a little lamb Its fleece was white as snow And everywhere that Bob went Bob went, Bob went Everywhere that Bob went The lamb was sure to go\n"
     ]
    }
   ],
   "source": [
    "# Escribe abajo tu código y presiona Shift+Enter para ejecutarlo\n",
    "remplazo= G.replace('Mary','Bob')\n",
    "print(remplazo)\n",
    "# Para realizar el cambio se usa el metodo replace, entonces en el primer parametro se tiene que poner la sub-cadena que se busca\n",
    "# cambiar y en el segundo argumento se debe poner la cadena nueva , por lo que la respuesta queda asi."
   ]
  },
  {
   "cell_type": "markdown",
   "id": "9b0eb2cf",
   "metadata": {},
   "source": [
    "<h2 id=\"quiz2\">Exámen sobre Tuplas</h2>"
   ]
  },
  {
   "cell_type": "markdown",
   "id": "30f7fd85",
   "metadata": {},
   "source": [
    "Considérese la siguiente tupla:"
   ]
  },
  {
   "cell_type": "code",
   "execution_count": 12,
   "id": "85db2d00",
   "metadata": {},
   "outputs": [
    {
     "data": {
      "text/plain": [
       "('pop',\n",
       " 'rock',\n",
       " 'soul',\n",
       " 'hard rock',\n",
       " 'soft rock',\n",
       " 'R&B',\n",
       " 'progressive rock',\n",
       " 'disco')"
      ]
     },
     "execution_count": 12,
     "metadata": {},
     "output_type": "execute_result"
    }
   ],
   "source": [
    "# Tupla de ejemplo\n",
    "\n",
    "genres_tuple = (\"pop\", \"rock\", \"soul\", \"hard rock\", \"soft rock\", \\\n",
    "                \"R&B\", \"progressive rock\", \"disco\") \n",
    "genres_tuple"
   ]
  },
  {
   "cell_type": "markdown",
   "id": "969456d6",
   "metadata": {},
   "source": [
    "Encontrar la longitud de la tupla, <code>genres_tuple</code>:"
   ]
  },
  {
   "cell_type": "code",
   "execution_count": 13,
   "id": "5530d25a",
   "metadata": {},
   "outputs": [
    {
     "data": {
      "text/plain": [
       "8"
      ]
     },
     "execution_count": 13,
     "metadata": {},
     "output_type": "execute_result"
    }
   ],
   "source": [
    "# Escribe abajo tu código y presiona Shift+Enter para ejecutarlo\n",
    "len(genres_tuple)\n",
    "# para encontrar la longitud de una tupla se puede usar la funcion len, la respuesta es 8 ya que tenemos 8 elementos en la tupla"
   ]
  },
  {
   "cell_type": "markdown",
   "id": "ca3a7053",
   "metadata": {},
   "source": [
    "<img src=\"https://s3-api.us-geo.objectstorage.softlayer.net/cf-courses-data/CognitiveClass/PY0101EN/Chapter%202/Images/TuplesQuiz.png\" width=\"1100\" align=\"center\">"
   ]
  },
  {
   "cell_type": "markdown",
   "id": "7f0eb007",
   "metadata": {},
   "source": [
    "Accede al elemento en el índice 3:"
   ]
  },
  {
   "cell_type": "code",
   "execution_count": 14,
   "id": "bd8be7a6",
   "metadata": {},
   "outputs": [
    {
     "data": {
      "text/plain": [
       "'hard rock'"
      ]
     },
     "execution_count": 14,
     "metadata": {},
     "output_type": "execute_result"
    }
   ],
   "source": [
    "# Escribe abajo tu código y presiona Shift+Enter para ejecutarlo\n",
    "genres_tuple[3]\n",
    "# para acceder al indice de un elemento se usa \"[]\" y como nos piden el tercer indice pues ponemos en 3"
   ]
  },
  {
   "cell_type": "markdown",
   "id": "a2b04649",
   "metadata": {},
   "source": [
    "Utiliza el slicing para obtener los índices 3, 4 y 5:"
   ]
  },
  {
   "cell_type": "code",
   "execution_count": 15,
   "id": "dc853f60",
   "metadata": {},
   "outputs": [
    {
     "data": {
      "text/plain": [
       "('hard rock', 'soft rock', 'R&B')"
      ]
     },
     "execution_count": 15,
     "metadata": {},
     "output_type": "execute_result"
    }
   ],
   "source": [
    "# Escribe abajo tu código y presiona Shift+Enter para ejecutarlo\n",
    "genres_tuple[3:6]\n",
    "# En este caso, genres_tuple[3:6] devolverá una nueva tupla con los elementos en los índices 3, 4 y 5 de la tupla original\n",
    "# El índice final del rango en el slicing no está incluido, por lo que se usa 6 para incluir el elemento en el índice 5."
   ]
  },
  {
   "cell_type": "markdown",
   "id": "fc2bbf58",
   "metadata": {},
   "source": [
    "Encuentra los primeros dos elementos de la tupla <code>genres_tuple</code>:"
   ]
  },
  {
   "cell_type": "code",
   "execution_count": 16,
   "id": "5045dd72",
   "metadata": {},
   "outputs": [
    {
     "data": {
      "text/plain": [
       "('pop', 'rock')"
      ]
     },
     "execution_count": 16,
     "metadata": {},
     "output_type": "execute_result"
    }
   ],
   "source": [
    "# Escribe abajo tu código y presiona Shift+Enter para ejecutarlo\n",
    "genres_tuple[:2]\n",
    "# En este caso, genres_tuple[:2] devolverá una nueva tupla que contiene los elementos en los índices 0 y 1 de la tupla original. \n",
    "# La salida será ('pop', 'rock'). En el slicing, el índice final no está incluido, por lo que [:2] selecciona los elementos desde el \n",
    "# inicio hasta el índice 1."
   ]
  },
  {
   "cell_type": "markdown",
   "id": "09ffd616",
   "metadata": {},
   "source": [
    "Encuentra el primer índice de <code>\"disco\"</code>:"
   ]
  },
  {
   "cell_type": "code",
   "execution_count": 17,
   "id": "00d9b742",
   "metadata": {},
   "outputs": [
    {
     "data": {
      "text/plain": [
       "7"
      ]
     },
     "execution_count": 17,
     "metadata": {},
     "output_type": "execute_result"
    }
   ],
   "source": [
    "# Escribe abajo tu código y presiona Shift+Enter para ejecutarlo\n",
    "genres_tuple.index(\"disco\")\n",
    "# para encontrar el primer índice de la cadena \"disco\" en la tupla genres_tuple. Se utiliza el método index() \n",
    "#que devuelve el índice del primer elemento igual al argumento pasado. "
   ]
  },
  {
   "cell_type": "markdown",
   "id": "de024940",
   "metadata": {},
   "source": [
    "Genera una lista ordenada desde la tupla <code>C_tuple=(-5, 1, -3)</code>:"
   ]
  },
  {
   "cell_type": "code",
   "execution_count": null,
   "id": "d97a39ae",
   "metadata": {},
   "outputs": [
    {
     "data": {
      "text/plain": [
       "[-5, -3, 1]"
      ]
     },
     "execution_count": 18,
     "metadata": {},
     "output_type": "execute_result"
    }
   ],
   "source": [
    "# Escribe abajo tu código y presiona Shift+Enter para ejecutarlo\n",
    "C_tuple=(-5, 1, -3)\n",
    "sorted(C_tuple)\n",
    "# La función sorted() en Python se utiliza para ordenar los elementos de una secuencia, \n",
    "# como una tupla, y devuelve una nueva lista con los elementos ordenados.\n",
    "# En el caso de C_tuple=(-5, 1, -3), si aplicas sorted(C_tuple), obtendrás una nueva lista con los elementos ordenados \n",
    "# de menor a mayor. En este ejemplo, la salida sería [-5, -3, 1]"
   ]
  },
  {
   "cell_type": "markdown",
   "id": "dcc8a0b8",
   "metadata": {},
   "source": [
    "<h2 id=\"quiz\">Exámen sobre Listas</h2>"
   ]
  },
  {
   "cell_type": "markdown",
   "id": "38de9d6c",
   "metadata": {},
   "source": [
    "Crea una lista <code>a_lit</code> con los siguientes elementos <code>1</code>, <code>hello</code>, <code>[1,2,3]</code> y <code>True</code>."
   ]
  },
  {
   "cell_type": "code",
   "execution_count": 1,
   "id": "cd46a8a9",
   "metadata": {},
   "outputs": [
    {
     "data": {
      "text/plain": [
       "[1, 'hello', [1, 2, 3], True]"
      ]
     },
     "execution_count": 1,
     "metadata": {},
     "output_type": "execute_result"
    }
   ],
   "source": [
    "a_lit = [1,\"hello\",[1,2,3],True]\n",
    "a_lit\n",
    "# Para crear una lista es necesario usar '[]' y dentro de la lista puede existir cualquier tipo, por lo que solo si tiene\n",
    "# que poner lo que nos pidieron."
   ]
  },
  {
   "cell_type": "markdown",
   "id": "33527bb3",
   "metadata": {},
   "source": [
    "Encuentra el valor almacenado en el índice 1 de <code>a_list</code>."
   ]
  },
  {
   "cell_type": "code",
   "execution_count": 2,
   "id": "7fc5d22f",
   "metadata": {},
   "outputs": [
    {
     "data": {
      "text/plain": [
       "'hello'"
      ]
     },
     "execution_count": 2,
     "metadata": {},
     "output_type": "execute_result"
    }
   ],
   "source": [
    "a_lit[1]\n",
    "# Para indexar un valor solo tenemos que poner el numero dentro de los '[]' y como piden el 1 solo se pone ese numero"
   ]
  },
  {
   "cell_type": "markdown",
   "id": "efd323ee",
   "metadata": {},
   "source": [
    "Obtén el elemento almacenado en el índice 1, 2 y 3 de <code>a_list</code>."
   ]
  },
  {
   "cell_type": "code",
   "execution_count": 3,
   "id": "6cfb448a",
   "metadata": {},
   "outputs": [
    {
     "data": {
      "text/plain": [
       "['hello', [1, 2, 3], True]"
      ]
     },
     "execution_count": 3,
     "metadata": {},
     "output_type": "execute_result"
    }
   ],
   "source": [
    "a_lit[1:4]\n",
    "# Para hacer un slice se usa el signo ':', y como nos piden los indices 1,2,3 se pone hasta el 4 ya que el ultimo valor lo ignora"
   ]
  },
  {
   "cell_type": "markdown",
   "id": "932c3d74",
   "metadata": {},
   "source": [
    "Concatena las siguientes listas <code>A = [1, 'a']</code> y <code>B = [2, 1, 'd']</code>:"
   ]
  },
  {
   "cell_type": "code",
   "execution_count": 4,
   "id": "2bee0c27",
   "metadata": {},
   "outputs": [
    {
     "data": {
      "text/plain": [
       "[1, 'a', 2, 1, 'd']"
      ]
     },
     "execution_count": 4,
     "metadata": {},
     "output_type": "execute_result"
    }
   ],
   "source": [
    "A = [1, 'a']\n",
    "B = [2, 1, 'd']\n",
    "A+B\n",
    "# Para concatenar una lista se usa el operador '+' ya que adiciona una lista con la otra y los elementos quedan en una sola lista"
   ]
  },
  {
   "cell_type": "code",
   "execution_count": null,
   "id": "80cda8ec",
   "metadata": {},
   "outputs": [],
   "source": []
  }
 ],
 "metadata": {
  "kernelspec": {
   "display_name": "Python 3 (ipykernel)",
   "language": "python",
   "name": "python3"
  },
  "language_info": {
   "codemirror_mode": {
    "name": "ipython",
    "version": 3
   },
   "file_extension": ".py",
   "mimetype": "text/x-python",
   "name": "python",
   "nbconvert_exporter": "python",
   "pygments_lexer": "ipython3",
   "version": "3.10.9"
  }
 },
 "nbformat": 4,
 "nbformat_minor": 5
}
